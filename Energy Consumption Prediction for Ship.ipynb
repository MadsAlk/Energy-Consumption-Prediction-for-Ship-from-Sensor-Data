{
 "cells": [
  {
   "cell_type": "markdown",
   "id": "58b2c9a1",
   "metadata": {},
   "source": [
    "### To run the notebook locally, place the data files in a folder named (rawdata) in the same directory as the notebook. Otherwise change path_to_files in the code."
   ]
  },
  {
   "cell_type": "markdown",
   "id": "a5a05972",
   "metadata": {},
   "source": [
    "### Exploratory Data analysis"
   ]
  },
  {
   "cell_type": "code",
   "execution_count": 166,
   "id": "638b508d",
   "metadata": {},
   "outputs": [
    {
     "name": "stdout",
     "output_type": "stream",
     "text": [
      "\n",
      "--- E:\\00EDISS\\Period 3\\ML\\mini1/rawdata/fuelDensity.csv ---\n"
     ]
    },
    {
     "data": {
      "text/html": [
       "<div>\n",
       "<style scoped>\n",
       "    .dataframe tbody tr th:only-of-type {\n",
       "        vertical-align: middle;\n",
       "    }\n",
       "\n",
       "    .dataframe tbody tr th {\n",
       "        vertical-align: top;\n",
       "    }\n",
       "\n",
       "    .dataframe thead th {\n",
       "        text-align: right;\n",
       "    }\n",
       "</style>\n",
       "<table border=\"1\" class=\"dataframe\">\n",
       "  <thead>\n",
       "    <tr style=\"text-align: right;\">\n",
       "      <th></th>\n",
       "      <th>634019142119225390</th>\n",
       "      <th>0.9471087</th>\n",
       "    </tr>\n",
       "  </thead>\n",
       "  <tbody>\n",
       "    <tr>\n",
       "      <th>0</th>\n",
       "      <td>634019142129597610</td>\n",
       "      <td>0.947110</td>\n",
       "    </tr>\n",
       "    <tr>\n",
       "      <th>1</th>\n",
       "      <td>634019142139821660</td>\n",
       "      <td>0.947114</td>\n",
       "    </tr>\n",
       "    <tr>\n",
       "      <th>2</th>\n",
       "      <td>634019142150036040</td>\n",
       "      <td>0.947104</td>\n",
       "    </tr>\n",
       "  </tbody>\n",
       "</table>\n",
       "</div>"
      ],
      "text/plain": [
       "   634019142119225390  0.9471087\n",
       "0  634019142129597610   0.947110\n",
       "1  634019142139821660   0.947114\n",
       "2  634019142150036040   0.947104"
      ]
     },
     "metadata": {},
     "output_type": "display_data"
    },
    {
     "name": "stdout",
     "output_type": "stream",
     "text": [
      "<class 'pandas.core.frame.DataFrame'>\n",
      "RangeIndex: 1627323 entries, 0 to 1627322\n",
      "Data columns (total 2 columns):\n",
      " #   Column              Non-Null Count    Dtype  \n",
      "---  ------              --------------    -----  \n",
      " 0   634019142119225390  1627323 non-null  int64  \n",
      " 1   0.9471087           1627323 non-null  float64\n",
      "dtypes: float64(1), int64(1)\n",
      "memory usage: 24.8 MB\n"
     ]
    },
    {
     "data": {
      "text/plain": [
       "None"
      ]
     },
     "metadata": {},
     "output_type": "display_data"
    },
    {
     "name": "stdout",
     "output_type": "stream",
     "text": [
      "\n",
      "--- E:\\00EDISS\\Period 3\\ML\\mini1/rawdata/fuelTemp.csv ---\n"
     ]
    },
    {
     "data": {
      "text/html": [
       "<div>\n",
       "<style scoped>\n",
       "    .dataframe tbody tr th:only-of-type {\n",
       "        vertical-align: middle;\n",
       "    }\n",
       "\n",
       "    .dataframe tbody tr th {\n",
       "        vertical-align: top;\n",
       "    }\n",
       "\n",
       "    .dataframe thead th {\n",
       "        text-align: right;\n",
       "    }\n",
       "</style>\n",
       "<table border=\"1\" class=\"dataframe\">\n",
       "  <thead>\n",
       "    <tr style=\"text-align: right;\">\n",
       "      <th></th>\n",
       "      <th>634019142119225390</th>\n",
       "      <th>62.20651</th>\n",
       "    </tr>\n",
       "  </thead>\n",
       "  <tbody>\n",
       "    <tr>\n",
       "      <th>0</th>\n",
       "      <td>634019142129597610</td>\n",
       "      <td>62.20406</td>\n",
       "    </tr>\n",
       "    <tr>\n",
       "      <th>1</th>\n",
       "      <td>634019142139821660</td>\n",
       "      <td>62.19989</td>\n",
       "    </tr>\n",
       "    <tr>\n",
       "      <th>2</th>\n",
       "      <td>634019142150036040</td>\n",
       "      <td>62.20412</td>\n",
       "    </tr>\n",
       "  </tbody>\n",
       "</table>\n",
       "</div>"
      ],
      "text/plain": [
       "   634019142119225390  62.20651\n",
       "0  634019142129597610  62.20406\n",
       "1  634019142139821660  62.19989\n",
       "2  634019142150036040  62.20412"
      ]
     },
     "metadata": {},
     "output_type": "display_data"
    },
    {
     "name": "stdout",
     "output_type": "stream",
     "text": [
      "<class 'pandas.core.frame.DataFrame'>\n",
      "RangeIndex: 1627323 entries, 0 to 1627322\n",
      "Data columns (total 2 columns):\n",
      " #   Column              Non-Null Count    Dtype  \n",
      "---  ------              --------------    -----  \n",
      " 0   634019142119225390  1627323 non-null  int64  \n",
      " 1   62.20651            1627323 non-null  float64\n",
      "dtypes: float64(1), int64(1)\n",
      "memory usage: 24.8 MB\n"
     ]
    },
    {
     "data": {
      "text/plain": [
       "None"
      ]
     },
     "metadata": {},
     "output_type": "display_data"
    },
    {
     "name": "stdout",
     "output_type": "stream",
     "text": [
      "\n",
      "--- E:\\00EDISS\\Period 3\\ML\\mini1/rawdata/fuelVolumeFlowRate.csv ---\n"
     ]
    },
    {
     "data": {
      "text/html": [
       "<div>\n",
       "<style scoped>\n",
       "    .dataframe tbody tr th:only-of-type {\n",
       "        vertical-align: middle;\n",
       "    }\n",
       "\n",
       "    .dataframe tbody tr th {\n",
       "        vertical-align: top;\n",
       "    }\n",
       "\n",
       "    .dataframe thead th {\n",
       "        text-align: right;\n",
       "    }\n",
       "</style>\n",
       "<table border=\"1\" class=\"dataframe\">\n",
       "  <thead>\n",
       "    <tr style=\"text-align: right;\">\n",
       "      <th></th>\n",
       "      <th>634019142119225390</th>\n",
       "      <th>0</th>\n",
       "    </tr>\n",
       "  </thead>\n",
       "  <tbody>\n",
       "    <tr>\n",
       "      <th>0</th>\n",
       "      <td>634019142129597610</td>\n",
       "      <td>0.0</td>\n",
       "    </tr>\n",
       "    <tr>\n",
       "      <th>1</th>\n",
       "      <td>634019142139821660</td>\n",
       "      <td>0.0</td>\n",
       "    </tr>\n",
       "    <tr>\n",
       "      <th>2</th>\n",
       "      <td>634019142150036040</td>\n",
       "      <td>0.0</td>\n",
       "    </tr>\n",
       "  </tbody>\n",
       "</table>\n",
       "</div>"
      ],
      "text/plain": [
       "   634019142119225390    0\n",
       "0  634019142129597610  0.0\n",
       "1  634019142139821660  0.0\n",
       "2  634019142150036040  0.0"
      ]
     },
     "metadata": {},
     "output_type": "display_data"
    },
    {
     "name": "stdout",
     "output_type": "stream",
     "text": [
      "<class 'pandas.core.frame.DataFrame'>\n",
      "RangeIndex: 1627323 entries, 0 to 1627322\n",
      "Data columns (total 2 columns):\n",
      " #   Column              Non-Null Count    Dtype  \n",
      "---  ------              --------------    -----  \n",
      " 0   634019142119225390  1627323 non-null  int64  \n",
      " 1   0                   1627323 non-null  float64\n",
      "dtypes: float64(1), int64(1)\n",
      "memory usage: 24.8 MB\n"
     ]
    },
    {
     "data": {
      "text/plain": [
       "None"
      ]
     },
     "metadata": {},
     "output_type": "display_data"
    },
    {
     "name": "stdout",
     "output_type": "stream",
     "text": [
      "\n",
      "--- E:\\00EDISS\\Period 3\\ML\\mini1/rawdata/inclinometer-raw.csv ---\n"
     ]
    },
    {
     "data": {
      "text/html": [
       "<div>\n",
       "<style scoped>\n",
       "    .dataframe tbody tr th:only-of-type {\n",
       "        vertical-align: middle;\n",
       "    }\n",
       "\n",
       "    .dataframe tbody tr th {\n",
       "        vertical-align: top;\n",
       "    }\n",
       "\n",
       "    .dataframe thead th {\n",
       "        text-align: right;\n",
       "    }\n",
       "</style>\n",
       "<table border=\"1\" class=\"dataframe\">\n",
       "  <thead>\n",
       "    <tr style=\"text-align: right;\">\n",
       "      <th></th>\n",
       "      <th>634018095130928380</th>\n",
       "      <th>357.25</th>\n",
       "    </tr>\n",
       "  </thead>\n",
       "  <tbody>\n",
       "    <tr>\n",
       "      <th>0</th>\n",
       "      <td>634018095135792430</td>\n",
       "      <td>357.26</td>\n",
       "    </tr>\n",
       "    <tr>\n",
       "      <th>1</th>\n",
       "      <td>634018095140650320</td>\n",
       "      <td>357.26</td>\n",
       "    </tr>\n",
       "    <tr>\n",
       "      <th>2</th>\n",
       "      <td>634018095145505050</td>\n",
       "      <td>357.26</td>\n",
       "    </tr>\n",
       "  </tbody>\n",
       "</table>\n",
       "</div>"
      ],
      "text/plain": [
       "   634018095130928380  357.25\n",
       "0  634018095135792430  357.26\n",
       "1  634018095140650320  357.26\n",
       "2  634018095145505050  357.26"
      ]
     },
     "metadata": {},
     "output_type": "display_data"
    },
    {
     "name": "stdout",
     "output_type": "stream",
     "text": [
      "<class 'pandas.core.frame.DataFrame'>\n",
      "RangeIndex: 3559676 entries, 0 to 3559675\n",
      "Data columns (total 2 columns):\n",
      " #   Column              Dtype  \n",
      "---  ------              -----  \n",
      " 0   634018095130928380  int64  \n",
      " 1   357.25              float64\n",
      "dtypes: float64(1), int64(1)\n",
      "memory usage: 54.3 MB\n"
     ]
    },
    {
     "data": {
      "text/plain": [
       "None"
      ]
     },
     "metadata": {},
     "output_type": "display_data"
    },
    {
     "name": "stdout",
     "output_type": "stream",
     "text": [
      "\n",
      "--- E:\\00EDISS\\Period 3\\ML\\mini1/rawdata/latitude.csv ---\n"
     ]
    },
    {
     "data": {
      "text/html": [
       "<div>\n",
       "<style scoped>\n",
       "    .dataframe tbody tr th:only-of-type {\n",
       "        vertical-align: middle;\n",
       "    }\n",
       "\n",
       "    .dataframe tbody tr th {\n",
       "        vertical-align: top;\n",
       "    }\n",
       "\n",
       "    .dataframe thead th {\n",
       "        text-align: right;\n",
       "    }\n",
       "</style>\n",
       "<table border=\"1\" class=\"dataframe\">\n",
       "  <thead>\n",
       "    <tr style=\"text-align: right;\">\n",
       "      <th></th>\n",
       "      <th>634018095137704470</th>\n",
       "      <th>6132.9236N</th>\n",
       "    </tr>\n",
       "  </thead>\n",
       "  <tbody>\n",
       "    <tr>\n",
       "      <th>0</th>\n",
       "      <td>634018095137898920</td>\n",
       "      <td>6132.9236N</td>\n",
       "    </tr>\n",
       "    <tr>\n",
       "      <th>1</th>\n",
       "      <td>634018095146534160</td>\n",
       "      <td>6132.9240N</td>\n",
       "    </tr>\n",
       "    <tr>\n",
       "      <th>2</th>\n",
       "      <td>634018095157587450</td>\n",
       "      <td>6132.9243N</td>\n",
       "    </tr>\n",
       "  </tbody>\n",
       "</table>\n",
       "</div>"
      ],
      "text/plain": [
       "   634018095137704470  6132.9236N\n",
       "0  634018095137898920  6132.9236N\n",
       "1  634018095146534160  6132.9240N\n",
       "2  634018095157587450  6132.9243N"
      ]
     },
     "metadata": {},
     "output_type": "display_data"
    },
    {
     "name": "stdout",
     "output_type": "stream",
     "text": [
      "<class 'pandas.core.frame.DataFrame'>\n",
      "RangeIndex: 2677712 entries, 0 to 2677711\n",
      "Data columns (total 2 columns):\n",
      " #   Column              Dtype \n",
      "---  ------              ----- \n",
      " 0   634018095137704470  int64 \n",
      " 1   6132.9236N          object\n",
      "dtypes: int64(1), object(1)\n",
      "memory usage: 40.9+ MB\n"
     ]
    },
    {
     "data": {
      "text/plain": [
       "None"
      ]
     },
     "metadata": {},
     "output_type": "display_data"
    },
    {
     "name": "stdout",
     "output_type": "stream",
     "text": [
      "\n",
      "--- E:\\00EDISS\\Period 3\\ML\\mini1/rawdata/level1median.csv ---\n"
     ]
    },
    {
     "data": {
      "text/html": [
       "<div>\n",
       "<style scoped>\n",
       "    .dataframe tbody tr th:only-of-type {\n",
       "        vertical-align: middle;\n",
       "    }\n",
       "\n",
       "    .dataframe tbody tr th {\n",
       "        vertical-align: top;\n",
       "    }\n",
       "\n",
       "    .dataframe thead th {\n",
       "        text-align: right;\n",
       "    }\n",
       "</style>\n",
       "<table border=\"1\" class=\"dataframe\">\n",
       "  <thead>\n",
       "    <tr style=\"text-align: right;\">\n",
       "      <th></th>\n",
       "      <th>634018095128184147</th>\n",
       "      <th>16.87116825054</th>\n",
       "    </tr>\n",
       "  </thead>\n",
       "  <tbody>\n",
       "    <tr>\n",
       "      <th>0</th>\n",
       "      <td>634018095131517480</td>\n",
       "      <td>16.830462</td>\n",
       "    </tr>\n",
       "    <tr>\n",
       "      <th>1</th>\n",
       "      <td>634018095134850813</td>\n",
       "      <td>16.779580</td>\n",
       "    </tr>\n",
       "    <tr>\n",
       "      <th>2</th>\n",
       "      <td>634018095138184146</td>\n",
       "      <td>16.840639</td>\n",
       "    </tr>\n",
       "  </tbody>\n",
       "</table>\n",
       "</div>"
      ],
      "text/plain": [
       "   634018095128184147  16.87116825054\n",
       "0  634018095131517480       16.830462\n",
       "1  634018095134850813       16.779580\n",
       "2  634018095138184146       16.840639"
      ]
     },
     "metadata": {},
     "output_type": "display_data"
    },
    {
     "name": "stdout",
     "output_type": "stream",
     "text": [
      "<class 'pandas.core.frame.DataFrame'>\n",
      "RangeIndex: 3979773 entries, 0 to 3979772\n",
      "Data columns (total 2 columns):\n",
      " #   Column              Dtype  \n",
      "---  ------              -----  \n",
      " 0   634018095128184147  int64  \n",
      " 1   16.87116825054      float64\n",
      "dtypes: float64(1), int64(1)\n",
      "memory usage: 60.7 MB\n"
     ]
    },
    {
     "data": {
      "text/plain": [
       "None"
      ]
     },
     "metadata": {},
     "output_type": "display_data"
    },
    {
     "name": "stdout",
     "output_type": "stream",
     "text": [
      "\n",
      "--- E:\\00EDISS\\Period 3\\ML\\mini1/rawdata/level2median.csv ---\n"
     ]
    },
    {
     "data": {
      "text/html": [
       "<div>\n",
       "<style scoped>\n",
       "    .dataframe tbody tr th:only-of-type {\n",
       "        vertical-align: middle;\n",
       "    }\n",
       "\n",
       "    .dataframe tbody tr th {\n",
       "        vertical-align: top;\n",
       "    }\n",
       "\n",
       "    .dataframe thead th {\n",
       "        text-align: right;\n",
       "    }\n",
       "</style>\n",
       "<table border=\"1\" class=\"dataframe\">\n",
       "  <thead>\n",
       "    <tr style=\"text-align: right;\">\n",
       "      <th></th>\n",
       "      <th>634018095128184147</th>\n",
       "      <th>13.9357568329718</th>\n",
       "    </tr>\n",
       "  </thead>\n",
       "  <tbody>\n",
       "    <tr>\n",
       "      <th>0</th>\n",
       "      <td>634018095131517480</td>\n",
       "      <td>13.953643</td>\n",
       "    </tr>\n",
       "    <tr>\n",
       "      <th>1</th>\n",
       "      <td>634018095134850813</td>\n",
       "      <td>13.912760</td>\n",
       "    </tr>\n",
       "    <tr>\n",
       "      <th>2</th>\n",
       "      <td>634018095138184146</td>\n",
       "      <td>13.961308</td>\n",
       "    </tr>\n",
       "  </tbody>\n",
       "</table>\n",
       "</div>"
      ],
      "text/plain": [
       "   634018095128184147  13.9357568329718\n",
       "0  634018095131517480         13.953643\n",
       "1  634018095134850813         13.912760\n",
       "2  634018095138184146         13.961308"
      ]
     },
     "metadata": {},
     "output_type": "display_data"
    },
    {
     "name": "stdout",
     "output_type": "stream",
     "text": [
      "<class 'pandas.core.frame.DataFrame'>\n",
      "RangeIndex: 3840793 entries, 0 to 3840792\n",
      "Data columns (total 2 columns):\n",
      " #   Column              Dtype  \n",
      "---  ------              -----  \n",
      " 0   634018095128184147  int64  \n",
      " 1   13.9357568329718    float64\n",
      "dtypes: float64(1), int64(1)\n",
      "memory usage: 58.6 MB\n"
     ]
    },
    {
     "data": {
      "text/plain": [
       "None"
      ]
     },
     "metadata": {},
     "output_type": "display_data"
    },
    {
     "name": "stdout",
     "output_type": "stream",
     "text": [
      "\n",
      "--- E:\\00EDISS\\Period 3\\ML\\mini1/rawdata/longitude.csv ---\n"
     ]
    },
    {
     "data": {
      "text/html": [
       "<div>\n",
       "<style scoped>\n",
       "    .dataframe tbody tr th:only-of-type {\n",
       "        vertical-align: middle;\n",
       "    }\n",
       "\n",
       "    .dataframe tbody tr th {\n",
       "        vertical-align: top;\n",
       "    }\n",
       "\n",
       "    .dataframe thead th {\n",
       "        text-align: right;\n",
       "    }\n",
       "</style>\n",
       "<table border=\"1\" class=\"dataframe\">\n",
       "  <thead>\n",
       "    <tr style=\"text-align: right;\">\n",
       "      <th></th>\n",
       "      <th>634018095137704470</th>\n",
       "      <th>00649.1143W</th>\n",
       "    </tr>\n",
       "  </thead>\n",
       "  <tbody>\n",
       "    <tr>\n",
       "      <th>0</th>\n",
       "      <td>634018095137898920</td>\n",
       "      <td>00649.1143W</td>\n",
       "    </tr>\n",
       "    <tr>\n",
       "      <th>1</th>\n",
       "      <td>634018095146534160</td>\n",
       "      <td>00649.1143W</td>\n",
       "    </tr>\n",
       "    <tr>\n",
       "      <th>2</th>\n",
       "      <td>634018095157587450</td>\n",
       "      <td>00649.1144W</td>\n",
       "    </tr>\n",
       "  </tbody>\n",
       "</table>\n",
       "</div>"
      ],
      "text/plain": [
       "   634018095137704470  00649.1143W\n",
       "0  634018095137898920  00649.1143W\n",
       "1  634018095146534160  00649.1143W\n",
       "2  634018095157587450  00649.1144W"
      ]
     },
     "metadata": {},
     "output_type": "display_data"
    },
    {
     "name": "stdout",
     "output_type": "stream",
     "text": [
      "<class 'pandas.core.frame.DataFrame'>\n",
      "RangeIndex: 2677695 entries, 0 to 2677694\n",
      "Data columns (total 2 columns):\n",
      " #   Column              Dtype \n",
      "---  ------              ----- \n",
      " 0   634018095137704470  int64 \n",
      " 1   00649.1143W         object\n",
      "dtypes: int64(1), object(1)\n",
      "memory usage: 40.9+ MB\n"
     ]
    },
    {
     "data": {
      "text/plain": [
       "None"
      ]
     },
     "metadata": {},
     "output_type": "display_data"
    },
    {
     "name": "stdout",
     "output_type": "stream",
     "text": [
      "\n",
      "--- E:\\00EDISS\\Period 3\\ML\\mini1/rawdata/longitudinalWaterSpeed.csv ---\n"
     ]
    },
    {
     "data": {
      "text/html": [
       "<div>\n",
       "<style scoped>\n",
       "    .dataframe tbody tr th:only-of-type {\n",
       "        vertical-align: middle;\n",
       "    }\n",
       "\n",
       "    .dataframe tbody tr th {\n",
       "        vertical-align: top;\n",
       "    }\n",
       "\n",
       "    .dataframe thead th {\n",
       "        text-align: right;\n",
       "    }\n",
       "</style>\n",
       "<table border=\"1\" class=\"dataframe\">\n",
       "  <thead>\n",
       "    <tr style=\"text-align: right;\">\n",
       "      <th></th>\n",
       "      <th>634018095159676190</th>\n",
       "      <th>0.4</th>\n",
       "    </tr>\n",
       "  </thead>\n",
       "  <tbody>\n",
       "    <tr>\n",
       "      <th>0</th>\n",
       "      <td>634018095189470370</td>\n",
       "      <td>0.5</td>\n",
       "    </tr>\n",
       "    <tr>\n",
       "      <th>1</th>\n",
       "      <td>634018095220320480</td>\n",
       "      <td>0.7</td>\n",
       "    </tr>\n",
       "    <tr>\n",
       "      <th>2</th>\n",
       "      <td>634018095251911580</td>\n",
       "      <td>0.9</td>\n",
       "    </tr>\n",
       "  </tbody>\n",
       "</table>\n",
       "</div>"
      ],
      "text/plain": [
       "   634018095159676190  0.4\n",
       "0  634018095189470370  0.5\n",
       "1  634018095220320480  0.7\n",
       "2  634018095251911580  0.9"
      ]
     },
     "metadata": {},
     "output_type": "display_data"
    },
    {
     "name": "stdout",
     "output_type": "stream",
     "text": [
      "<class 'pandas.core.frame.DataFrame'>\n",
      "RangeIndex: 548291 entries, 0 to 548290\n",
      "Data columns (total 2 columns):\n",
      " #   Column              Non-Null Count   Dtype  \n",
      "---  ------              --------------   -----  \n",
      " 0   634018095159676190  548291 non-null  int64  \n",
      " 1   0.4                 548291 non-null  float64\n",
      "dtypes: float64(1), int64(1)\n",
      "memory usage: 8.4 MB\n"
     ]
    },
    {
     "data": {
      "text/plain": [
       "None"
      ]
     },
     "metadata": {},
     "output_type": "display_data"
    },
    {
     "name": "stdout",
     "output_type": "stream",
     "text": [
      "\n",
      "--- E:\\00EDISS\\Period 3\\ML\\mini1/rawdata/portPitch.csv ---\n"
     ]
    },
    {
     "data": {
      "text/html": [
       "<div>\n",
       "<style scoped>\n",
       "    .dataframe tbody tr th:only-of-type {\n",
       "        vertical-align: middle;\n",
       "    }\n",
       "\n",
       "    .dataframe tbody tr th {\n",
       "        vertical-align: top;\n",
       "    }\n",
       "\n",
       "    .dataframe thead th {\n",
       "        text-align: right;\n",
       "    }\n",
       "</style>\n",
       "<table border=\"1\" class=\"dataframe\">\n",
       "  <thead>\n",
       "    <tr style=\"text-align: right;\">\n",
       "      <th></th>\n",
       "      <th>634018095135582500</th>\n",
       "      <th>2.127</th>\n",
       "    </tr>\n",
       "  </thead>\n",
       "  <tbody>\n",
       "    <tr>\n",
       "      <th>0</th>\n",
       "      <td>634018095145588030</td>\n",
       "      <td>2.156</td>\n",
       "    </tr>\n",
       "    <tr>\n",
       "      <th>1</th>\n",
       "      <td>634018095155594280</td>\n",
       "      <td>2.295</td>\n",
       "    </tr>\n",
       "    <tr>\n",
       "      <th>2</th>\n",
       "      <td>634018095165605510</td>\n",
       "      <td>2.446</td>\n",
       "    </tr>\n",
       "  </tbody>\n",
       "</table>\n",
       "</div>"
      ],
      "text/plain": [
       "   634018095135582500  2.127\n",
       "0  634018095145588030  2.156\n",
       "1  634018095155594280  2.295\n",
       "2  634018095165605510  2.446"
      ]
     },
     "metadata": {},
     "output_type": "display_data"
    },
    {
     "name": "stdout",
     "output_type": "stream",
     "text": [
      "<class 'pandas.core.frame.DataFrame'>\n",
      "RangeIndex: 1726075 entries, 0 to 1726074\n",
      "Data columns (total 2 columns):\n",
      " #   Column              Dtype  \n",
      "---  ------              -----  \n",
      " 0   634018095135582500  int64  \n",
      " 1   2.127               float64\n",
      "dtypes: float64(1), int64(1)\n",
      "memory usage: 26.3 MB\n"
     ]
    },
    {
     "data": {
      "text/plain": [
       "None"
      ]
     },
     "metadata": {},
     "output_type": "display_data"
    },
    {
     "name": "stdout",
     "output_type": "stream",
     "text": [
      "\n",
      "--- E:\\00EDISS\\Period 3\\ML\\mini1/rawdata/portRudder.csv ---\n"
     ]
    },
    {
     "data": {
      "text/html": [
       "<div>\n",
       "<style scoped>\n",
       "    .dataframe tbody tr th:only-of-type {\n",
       "        vertical-align: middle;\n",
       "    }\n",
       "\n",
       "    .dataframe tbody tr th {\n",
       "        vertical-align: top;\n",
       "    }\n",
       "\n",
       "    .dataframe thead th {\n",
       "        text-align: right;\n",
       "    }\n",
       "</style>\n",
       "<table border=\"1\" class=\"dataframe\">\n",
       "  <thead>\n",
       "    <tr style=\"text-align: right;\">\n",
       "      <th></th>\n",
       "      <th>634018095135582500</th>\n",
       "      <th>3.118</th>\n",
       "    </tr>\n",
       "  </thead>\n",
       "  <tbody>\n",
       "    <tr>\n",
       "      <th>0</th>\n",
       "      <td>634018095145588030</td>\n",
       "      <td>3.153</td>\n",
       "    </tr>\n",
       "    <tr>\n",
       "      <th>1</th>\n",
       "      <td>634018095155594280</td>\n",
       "      <td>3.148</td>\n",
       "    </tr>\n",
       "    <tr>\n",
       "      <th>2</th>\n",
       "      <td>634018095165605510</td>\n",
       "      <td>3.225</td>\n",
       "    </tr>\n",
       "  </tbody>\n",
       "</table>\n",
       "</div>"
      ],
      "text/plain": [
       "   634018095135582500  3.118\n",
       "0  634018095145588030  3.153\n",
       "1  634018095155594280  3.148\n",
       "2  634018095165605510  3.225"
      ]
     },
     "metadata": {},
     "output_type": "display_data"
    },
    {
     "name": "stdout",
     "output_type": "stream",
     "text": [
      "<class 'pandas.core.frame.DataFrame'>\n",
      "RangeIndex: 1726075 entries, 0 to 1726074\n",
      "Data columns (total 2 columns):\n",
      " #   Column              Dtype  \n",
      "---  ------              -----  \n",
      " 0   634018095135582500  int64  \n",
      " 1   3.118               float64\n",
      "dtypes: float64(1), int64(1)\n",
      "memory usage: 26.3 MB\n"
     ]
    },
    {
     "data": {
      "text/plain": [
       "None"
      ]
     },
     "metadata": {},
     "output_type": "display_data"
    },
    {
     "name": "stdout",
     "output_type": "stream",
     "text": [
      "\n",
      "--- E:\\00EDISS\\Period 3\\ML\\mini1/rawdata/speedKmh.csv ---\n"
     ]
    },
    {
     "data": {
      "text/html": [
       "<div>\n",
       "<style scoped>\n",
       "    .dataframe tbody tr th:only-of-type {\n",
       "        vertical-align: middle;\n",
       "    }\n",
       "\n",
       "    .dataframe tbody tr th {\n",
       "        vertical-align: top;\n",
       "    }\n",
       "\n",
       "    .dataframe thead th {\n",
       "        text-align: right;\n",
       "    }\n",
       "</style>\n",
       "<table border=\"1\" class=\"dataframe\">\n",
       "  <thead>\n",
       "    <tr style=\"text-align: right;\">\n",
       "      <th></th>\n",
       "      <th>634018095130693130</th>\n",
       "      <th>1.1</th>\n",
       "    </tr>\n",
       "  </thead>\n",
       "  <tbody>\n",
       "    <tr>\n",
       "      <th>0</th>\n",
       "      <td>634018095139168740</td>\n",
       "      <td>1.1</td>\n",
       "    </tr>\n",
       "    <tr>\n",
       "      <th>1</th>\n",
       "      <td>634018095149771410</td>\n",
       "      <td>1.3</td>\n",
       "    </tr>\n",
       "    <tr>\n",
       "      <th>2</th>\n",
       "      <td>634018095160296020</td>\n",
       "      <td>1.5</td>\n",
       "    </tr>\n",
       "  </tbody>\n",
       "</table>\n",
       "</div>"
      ],
      "text/plain": [
       "   634018095130693130  1.1\n",
       "0  634018095139168740  1.1\n",
       "1  634018095149771410  1.3\n",
       "2  634018095160296020  1.5"
      ]
     },
     "metadata": {},
     "output_type": "display_data"
    },
    {
     "name": "stdout",
     "output_type": "stream",
     "text": [
      "<class 'pandas.core.frame.DataFrame'>\n",
      "RangeIndex: 1766905 entries, 0 to 1766904\n",
      "Data columns (total 2 columns):\n",
      " #   Column              Dtype  \n",
      "---  ------              -----  \n",
      " 0   634018095130693130  int64  \n",
      " 1   1.1                 float64\n",
      "dtypes: float64(1), int64(1)\n",
      "memory usage: 27.0 MB\n"
     ]
    },
    {
     "data": {
      "text/plain": [
       "None"
      ]
     },
     "metadata": {},
     "output_type": "display_data"
    },
    {
     "name": "stdout",
     "output_type": "stream",
     "text": [
      "\n",
      "--- E:\\00EDISS\\Period 3\\ML\\mini1/rawdata/speedKnots.csv ---\n"
     ]
    },
    {
     "data": {
      "text/html": [
       "<div>\n",
       "<style scoped>\n",
       "    .dataframe tbody tr th:only-of-type {\n",
       "        vertical-align: middle;\n",
       "    }\n",
       "\n",
       "    .dataframe tbody tr th {\n",
       "        vertical-align: top;\n",
       "    }\n",
       "\n",
       "    .dataframe thead th {\n",
       "        text-align: right;\n",
       "    }\n",
       "</style>\n",
       "<table border=\"1\" class=\"dataframe\">\n",
       "  <thead>\n",
       "    <tr style=\"text-align: right;\">\n",
       "      <th></th>\n",
       "      <th>634018095130693130</th>\n",
       "      <th>0.6</th>\n",
       "    </tr>\n",
       "  </thead>\n",
       "  <tbody>\n",
       "    <tr>\n",
       "      <th>0</th>\n",
       "      <td>634018095139168740</td>\n",
       "      <td>0.6</td>\n",
       "    </tr>\n",
       "    <tr>\n",
       "      <th>1</th>\n",
       "      <td>634018095149771410</td>\n",
       "      <td>0.7</td>\n",
       "    </tr>\n",
       "    <tr>\n",
       "      <th>2</th>\n",
       "      <td>634018095160296020</td>\n",
       "      <td>0.8</td>\n",
       "    </tr>\n",
       "  </tbody>\n",
       "</table>\n",
       "</div>"
      ],
      "text/plain": [
       "   634018095130693130  0.6\n",
       "0  634018095139168740  0.6\n",
       "1  634018095149771410  0.7\n",
       "2  634018095160296020  0.8"
      ]
     },
     "metadata": {},
     "output_type": "display_data"
    },
    {
     "name": "stdout",
     "output_type": "stream",
     "text": [
      "<class 'pandas.core.frame.DataFrame'>\n",
      "RangeIndex: 1766907 entries, 0 to 1766906\n",
      "Data columns (total 2 columns):\n",
      " #   Column              Dtype  \n",
      "---  ------              -----  \n",
      " 0   634018095130693130  int64  \n",
      " 1   0.6                 float64\n",
      "dtypes: float64(1), int64(1)\n",
      "memory usage: 27.0 MB\n"
     ]
    },
    {
     "data": {
      "text/plain": [
       "None"
      ]
     },
     "metadata": {},
     "output_type": "display_data"
    },
    {
     "name": "stdout",
     "output_type": "stream",
     "text": [
      "\n",
      "--- E:\\00EDISS\\Period 3\\ML\\mini1/rawdata/starboardPitch.csv ---\n"
     ]
    },
    {
     "data": {
      "text/html": [
       "<div>\n",
       "<style scoped>\n",
       "    .dataframe tbody tr th:only-of-type {\n",
       "        vertical-align: middle;\n",
       "    }\n",
       "\n",
       "    .dataframe tbody tr th {\n",
       "        vertical-align: top;\n",
       "    }\n",
       "\n",
       "    .dataframe thead th {\n",
       "        text-align: right;\n",
       "    }\n",
       "</style>\n",
       "<table border=\"1\" class=\"dataframe\">\n",
       "  <thead>\n",
       "    <tr style=\"text-align: right;\">\n",
       "      <th></th>\n",
       "      <th>634018095135582500</th>\n",
       "      <th>2.103</th>\n",
       "    </tr>\n",
       "  </thead>\n",
       "  <tbody>\n",
       "    <tr>\n",
       "      <th>0</th>\n",
       "      <td>634018095145588030</td>\n",
       "      <td>2.067</td>\n",
       "    </tr>\n",
       "    <tr>\n",
       "      <th>1</th>\n",
       "      <td>634018095155594280</td>\n",
       "      <td>2.223</td>\n",
       "    </tr>\n",
       "    <tr>\n",
       "      <th>2</th>\n",
       "      <td>634018095165605510</td>\n",
       "      <td>2.331</td>\n",
       "    </tr>\n",
       "  </tbody>\n",
       "</table>\n",
       "</div>"
      ],
      "text/plain": [
       "   634018095135582500  2.103\n",
       "0  634018095145588030  2.067\n",
       "1  634018095155594280  2.223\n",
       "2  634018095165605510  2.331"
      ]
     },
     "metadata": {},
     "output_type": "display_data"
    },
    {
     "name": "stdout",
     "output_type": "stream",
     "text": [
      "<class 'pandas.core.frame.DataFrame'>\n",
      "RangeIndex: 1726075 entries, 0 to 1726074\n",
      "Data columns (total 2 columns):\n",
      " #   Column              Dtype  \n",
      "---  ------              -----  \n",
      " 0   634018095135582500  int64  \n",
      " 1   2.103               float64\n",
      "dtypes: float64(1), int64(1)\n",
      "memory usage: 26.3 MB\n"
     ]
    },
    {
     "data": {
      "text/plain": [
       "None"
      ]
     },
     "metadata": {},
     "output_type": "display_data"
    },
    {
     "name": "stdout",
     "output_type": "stream",
     "text": [
      "\n",
      "--- E:\\00EDISS\\Period 3\\ML\\mini1/rawdata/starboardRudder.csv ---\n"
     ]
    },
    {
     "data": {
      "text/html": [
       "<div>\n",
       "<style scoped>\n",
       "    .dataframe tbody tr th:only-of-type {\n",
       "        vertical-align: middle;\n",
       "    }\n",
       "\n",
       "    .dataframe tbody tr th {\n",
       "        vertical-align: top;\n",
       "    }\n",
       "\n",
       "    .dataframe thead th {\n",
       "        text-align: right;\n",
       "    }\n",
       "</style>\n",
       "<table border=\"1\" class=\"dataframe\">\n",
       "  <thead>\n",
       "    <tr style=\"text-align: right;\">\n",
       "      <th></th>\n",
       "      <th>634018095135582500</th>\n",
       "      <th>3.142</th>\n",
       "    </tr>\n",
       "  </thead>\n",
       "  <tbody>\n",
       "    <tr>\n",
       "      <th>0</th>\n",
       "      <td>634018095145588030</td>\n",
       "      <td>3.200</td>\n",
       "    </tr>\n",
       "    <tr>\n",
       "      <th>1</th>\n",
       "      <td>634018095155594280</td>\n",
       "      <td>3.202</td>\n",
       "    </tr>\n",
       "    <tr>\n",
       "      <th>2</th>\n",
       "      <td>634018095165605510</td>\n",
       "      <td>3.076</td>\n",
       "    </tr>\n",
       "  </tbody>\n",
       "</table>\n",
       "</div>"
      ],
      "text/plain": [
       "   634018095135582500  3.142\n",
       "0  634018095145588030  3.200\n",
       "1  634018095155594280  3.202\n",
       "2  634018095165605510  3.076"
      ]
     },
     "metadata": {},
     "output_type": "display_data"
    },
    {
     "name": "stdout",
     "output_type": "stream",
     "text": [
      "<class 'pandas.core.frame.DataFrame'>\n",
      "RangeIndex: 1726075 entries, 0 to 1726074\n",
      "Data columns (total 2 columns):\n",
      " #   Column              Dtype  \n",
      "---  ------              -----  \n",
      " 0   634018095135582500  int64  \n",
      " 1   3.142               float64\n",
      "dtypes: float64(1), int64(1)\n",
      "memory usage: 26.3 MB\n"
     ]
    },
    {
     "data": {
      "text/plain": [
       "None"
      ]
     },
     "metadata": {},
     "output_type": "display_data"
    },
    {
     "name": "stdout",
     "output_type": "stream",
     "text": [
      "\n",
      "--- E:\\00EDISS\\Period 3\\ML\\mini1/rawdata/trackDegreeMagnetic.csv ---\n"
     ]
    },
    {
     "data": {
      "text/html": [
       "<div>\n",
       "<style scoped>\n",
       "    .dataframe tbody tr th:only-of-type {\n",
       "        vertical-align: middle;\n",
       "    }\n",
       "\n",
       "    .dataframe tbody tr th {\n",
       "        vertical-align: top;\n",
       "    }\n",
       "\n",
       "    .dataframe thead th {\n",
       "        text-align: right;\n",
       "    }\n",
       "</style>\n",
       "<table border=\"1\" class=\"dataframe\">\n",
       "  <thead>\n",
       "    <tr style=\"text-align: right;\">\n",
       "      <th></th>\n",
       "      <th>634018095139168740</th>\n",
       "      <th>48.5</th>\n",
       "    </tr>\n",
       "  </thead>\n",
       "  <tbody>\n",
       "    <tr>\n",
       "      <th>0</th>\n",
       "      <td>634018095149771410</td>\n",
       "      <td>40.3</td>\n",
       "    </tr>\n",
       "    <tr>\n",
       "      <th>1</th>\n",
       "      <td>634018095160296020</td>\n",
       "      <td>33.2</td>\n",
       "    </tr>\n",
       "    <tr>\n",
       "      <th>2</th>\n",
       "      <td>634018095160835260</td>\n",
       "      <td>33.2</td>\n",
       "    </tr>\n",
       "  </tbody>\n",
       "</table>\n",
       "</div>"
      ],
      "text/plain": [
       "   634018095139168740  48.5\n",
       "0  634018095149771410  40.3\n",
       "1  634018095160296020  33.2\n",
       "2  634018095160835260  33.2"
      ]
     },
     "metadata": {},
     "output_type": "display_data"
    },
    {
     "name": "stdout",
     "output_type": "stream",
     "text": [
      "<class 'pandas.core.frame.DataFrame'>\n",
      "RangeIndex: 1766473 entries, 0 to 1766472\n",
      "Data columns (total 2 columns):\n",
      " #   Column              Dtype  \n",
      "---  ------              -----  \n",
      " 0   634018095139168740  int64  \n",
      " 1   48.5                float64\n",
      "dtypes: float64(1), int64(1)\n",
      "memory usage: 27.0 MB\n"
     ]
    },
    {
     "data": {
      "text/plain": [
       "None"
      ]
     },
     "metadata": {},
     "output_type": "display_data"
    },
    {
     "name": "stdout",
     "output_type": "stream",
     "text": [
      "\n",
      "--- E:\\00EDISS\\Period 3\\ML\\mini1/rawdata/trackDegreeTrue.csv ---\n"
     ]
    },
    {
     "data": {
      "text/html": [
       "<div>\n",
       "<style scoped>\n",
       "    .dataframe tbody tr th:only-of-type {\n",
       "        vertical-align: middle;\n",
       "    }\n",
       "\n",
       "    .dataframe tbody tr th {\n",
       "        vertical-align: top;\n",
       "    }\n",
       "\n",
       "    .dataframe thead th {\n",
       "        text-align: right;\n",
       "    }\n",
       "</style>\n",
       "<table border=\"1\" class=\"dataframe\">\n",
       "  <thead>\n",
       "    <tr style=\"text-align: right;\">\n",
       "      <th></th>\n",
       "      <th>634018095139168740</th>\n",
       "      <th>41.5</th>\n",
       "    </tr>\n",
       "  </thead>\n",
       "  <tbody>\n",
       "    <tr>\n",
       "      <th>0</th>\n",
       "      <td>634018095149771410</td>\n",
       "      <td>33.3</td>\n",
       "    </tr>\n",
       "    <tr>\n",
       "      <th>1</th>\n",
       "      <td>634018095160296020</td>\n",
       "      <td>26.2</td>\n",
       "    </tr>\n",
       "    <tr>\n",
       "      <th>2</th>\n",
       "      <td>634018095160835260</td>\n",
       "      <td>26.2</td>\n",
       "    </tr>\n",
       "  </tbody>\n",
       "</table>\n",
       "</div>"
      ],
      "text/plain": [
       "   634018095139168740  41.5\n",
       "0  634018095149771410  33.3\n",
       "1  634018095160296020  26.2\n",
       "2  634018095160835260  26.2"
      ]
     },
     "metadata": {},
     "output_type": "display_data"
    },
    {
     "name": "stdout",
     "output_type": "stream",
     "text": [
      "<class 'pandas.core.frame.DataFrame'>\n",
      "RangeIndex: 1766478 entries, 0 to 1766477\n",
      "Data columns (total 2 columns):\n",
      " #   Column              Dtype  \n",
      "---  ------              -----  \n",
      " 0   634018095139168740  int64  \n",
      " 1   41.5                float64\n",
      "dtypes: float64(1), int64(1)\n",
      "memory usage: 27.0 MB\n"
     ]
    },
    {
     "data": {
      "text/plain": [
       "None"
      ]
     },
     "metadata": {},
     "output_type": "display_data"
    },
    {
     "name": "stdout",
     "output_type": "stream",
     "text": [
      "\n",
      "--- E:\\00EDISS\\Period 3\\ML\\mini1/rawdata/trueHeading.csv ---\n"
     ]
    },
    {
     "data": {
      "text/html": [
       "<div>\n",
       "<style scoped>\n",
       "    .dataframe tbody tr th:only-of-type {\n",
       "        vertical-align: middle;\n",
       "    }\n",
       "\n",
       "    .dataframe tbody tr th {\n",
       "        vertical-align: top;\n",
       "    }\n",
       "\n",
       "    .dataframe thead th {\n",
       "        text-align: right;\n",
       "    }\n",
       "</style>\n",
       "<table border=\"1\" class=\"dataframe\">\n",
       "  <thead>\n",
       "    <tr style=\"text-align: right;\">\n",
       "      <th></th>\n",
       "      <th>634018095140997220</th>\n",
       "      <th>317.93</th>\n",
       "    </tr>\n",
       "  </thead>\n",
       "  <tbody>\n",
       "    <tr>\n",
       "      <th>0</th>\n",
       "      <td>634018095152989600</td>\n",
       "      <td>318.32</td>\n",
       "    </tr>\n",
       "    <tr>\n",
       "      <th>1</th>\n",
       "      <td>634018095164992880</td>\n",
       "      <td>318.83</td>\n",
       "    </tr>\n",
       "    <tr>\n",
       "      <th>2</th>\n",
       "      <td>634018095176985300</td>\n",
       "      <td>319.33</td>\n",
       "    </tr>\n",
       "  </tbody>\n",
       "</table>\n",
       "</div>"
      ],
      "text/plain": [
       "   634018095140997220  317.93\n",
       "0  634018095152989600  318.32\n",
       "1  634018095164992880  318.83\n",
       "2  634018095176985300  319.33"
      ]
     },
     "metadata": {},
     "output_type": "display_data"
    },
    {
     "name": "stdout",
     "output_type": "stream",
     "text": [
      "<class 'pandas.core.frame.DataFrame'>\n",
      "RangeIndex: 1439538 entries, 0 to 1439537\n",
      "Data columns (total 2 columns):\n",
      " #   Column              Non-Null Count    Dtype  \n",
      "---  ------              --------------    -----  \n",
      " 0   634018095140997220  1439538 non-null  int64  \n",
      " 1   317.93              1439538 non-null  float64\n",
      "dtypes: float64(1), int64(1)\n",
      "memory usage: 22.0 MB\n"
     ]
    },
    {
     "data": {
      "text/plain": [
       "None"
      ]
     },
     "metadata": {},
     "output_type": "display_data"
    },
    {
     "name": "stdout",
     "output_type": "stream",
     "text": [
      "\n",
      "--- E:\\00EDISS\\Period 3\\ML\\mini1/rawdata/windAngle.csv ---\n"
     ]
    },
    {
     "data": {
      "text/html": [
       "<div>\n",
       "<style scoped>\n",
       "    .dataframe tbody tr th:only-of-type {\n",
       "        vertical-align: middle;\n",
       "    }\n",
       "\n",
       "    .dataframe tbody tr th {\n",
       "        vertical-align: top;\n",
       "    }\n",
       "\n",
       "    .dataframe thead th {\n",
       "        text-align: right;\n",
       "    }\n",
       "</style>\n",
       "<table border=\"1\" class=\"dataframe\">\n",
       "  <thead>\n",
       "    <tr style=\"text-align: right;\">\n",
       "      <th></th>\n",
       "      <th>634018095148473090</th>\n",
       "      <th>322</th>\n",
       "    </tr>\n",
       "  </thead>\n",
       "  <tbody>\n",
       "    <tr>\n",
       "      <th>0</th>\n",
       "      <td>634018095168491190</td>\n",
       "      <td>330</td>\n",
       "    </tr>\n",
       "    <tr>\n",
       "      <th>1</th>\n",
       "      <td>634018095188489250</td>\n",
       "      <td>325</td>\n",
       "    </tr>\n",
       "    <tr>\n",
       "      <th>2</th>\n",
       "      <td>634018095208487470</td>\n",
       "      <td>328</td>\n",
       "    </tr>\n",
       "  </tbody>\n",
       "</table>\n",
       "</div>"
      ],
      "text/plain": [
       "   634018095148473090  322\n",
       "0  634018095168491190  330\n",
       "1  634018095188489250  325\n",
       "2  634018095208487470  328"
      ]
     },
     "metadata": {},
     "output_type": "display_data"
    },
    {
     "name": "stdout",
     "output_type": "stream",
     "text": [
      "<class 'pandas.core.frame.DataFrame'>\n",
      "RangeIndex: 863754 entries, 0 to 863753\n",
      "Data columns (total 2 columns):\n",
      " #   Column              Non-Null Count   Dtype\n",
      "---  ------              --------------   -----\n",
      " 0   634018095148473090  863754 non-null  int64\n",
      " 1   322                 863754 non-null  int64\n",
      "dtypes: int64(2)\n",
      "memory usage: 13.2 MB\n"
     ]
    },
    {
     "data": {
      "text/plain": [
       "None"
      ]
     },
     "metadata": {},
     "output_type": "display_data"
    },
    {
     "name": "stdout",
     "output_type": "stream",
     "text": [
      "\n",
      "--- E:\\00EDISS\\Period 3\\ML\\mini1/rawdata/windSpeed.csv ---\n"
     ]
    },
    {
     "data": {
      "text/html": [
       "<div>\n",
       "<style scoped>\n",
       "    .dataframe tbody tr th:only-of-type {\n",
       "        vertical-align: middle;\n",
       "    }\n",
       "\n",
       "    .dataframe tbody tr th {\n",
       "        vertical-align: top;\n",
       "    }\n",
       "\n",
       "    .dataframe thead th {\n",
       "        text-align: right;\n",
       "    }\n",
       "</style>\n",
       "<table border=\"1\" class=\"dataframe\">\n",
       "  <thead>\n",
       "    <tr style=\"text-align: right;\">\n",
       "      <th></th>\n",
       "      <th>634018095148473090</th>\n",
       "      <th>0.7</th>\n",
       "    </tr>\n",
       "  </thead>\n",
       "  <tbody>\n",
       "    <tr>\n",
       "      <th>0</th>\n",
       "      <td>634018095168491190</td>\n",
       "      <td>0.7</td>\n",
       "    </tr>\n",
       "    <tr>\n",
       "      <th>1</th>\n",
       "      <td>634018095188489250</td>\n",
       "      <td>0.7</td>\n",
       "    </tr>\n",
       "    <tr>\n",
       "      <th>2</th>\n",
       "      <td>634018095208487470</td>\n",
       "      <td>0.7</td>\n",
       "    </tr>\n",
       "  </tbody>\n",
       "</table>\n",
       "</div>"
      ],
      "text/plain": [
       "   634018095148473090  0.7\n",
       "0  634018095168491190  0.7\n",
       "1  634018095188489250  0.7\n",
       "2  634018095208487470  0.7"
      ]
     },
     "metadata": {},
     "output_type": "display_data"
    },
    {
     "name": "stdout",
     "output_type": "stream",
     "text": [
      "<class 'pandas.core.frame.DataFrame'>\n",
      "RangeIndex: 863754 entries, 0 to 863753\n",
      "Data columns (total 2 columns):\n",
      " #   Column              Non-Null Count   Dtype  \n",
      "---  ------              --------------   -----  \n",
      " 0   634018095148473090  863754 non-null  int64  \n",
      " 1   0.7                 863754 non-null  float64\n",
      "dtypes: float64(1), int64(1)\n",
      "memory usage: 13.2 MB\n"
     ]
    },
    {
     "data": {
      "text/plain": [
       "None"
      ]
     },
     "metadata": {},
     "output_type": "display_data"
    }
   ],
   "source": [
    "import pandas as pd\n",
    "import os\n",
    "\n",
    "path_to_files = os.getcwd()+'/rawdata/'\n",
    "\n",
    "# Preview first 3 rows of each file\n",
    "for file in csv_files:\n",
    "    file = f'{path_to_files}{file}'\n",
    "    print(f\"\\n--- {file} ---\")\n",
    "    df = pd.read_csv(file)\n",
    "    display(df.head(3))  # Shows in a table format in Colab\n",
    "    display(df.info())\n"
   ]
  },
  {
   "cell_type": "markdown",
   "id": "b67e58d5",
   "metadata": {},
   "source": [
    "### Pauses in the timestamps due to change of journey."
   ]
  },
  {
   "cell_type": "code",
   "execution_count": 167,
   "id": "3fcd404d",
   "metadata": {},
   "outputs": [
    {
     "data": {
      "image/png": "[encoded data removed]",
      "text/plain": [
       "<Figure size 432x288 with 1 Axes>"
      ]
     },
     "metadata": {
      "needs_background": "light"
     },
     "output_type": "display_data"
    }
   ],
   "source": [
    "import matplotlib.pyplot as plt\n",
    "import seaborn as sns\n",
    "\n",
    "df = pd.read_csv(path_to_files+\"fuelVolumeFlowRate.csv\")\n",
    "plt.plot(df.iloc[1:20000,0]) # Zoom in on the timestamps\n",
    "\n",
    "# label axis\n",
    "plt.xlabel(\"Data entry\")\n",
    "plt.ylabel(\"Time\")\n",
    "plt.title(file)\n",
    "plt.show()\n",
    "\n"
   ]
  },
  {
   "cell_type": "markdown",
   "id": "e51b7e22",
   "metadata": {},
   "source": [
    "### Average time between readings for each sensor."
   ]
  },
  {
   "cell_type": "code",
   "execution_count": 169,
   "id": "95d90485",
   "metadata": {},
   "outputs": [
    {
     "data": {
      "image/png": "[encoded data removed]",
      "text/plain": [
       "<Figure size 432x288 with 1 Axes>"
      ]
     },
     "metadata": {
      "needs_background": "light"
     },
     "output_type": "display_data"
    }
   ],
   "source": [
    "timeBetweenReadingsDict = {}\n",
    "\n",
    "for file in csv_files:\n",
    "    df = pd.read_csv(f'{path_to_files}{file}')\n",
    "    measurement = file.split('.')[0]    # Get measurement name.\n",
    "    df['timeBetweenReadings'] = df.iloc[:,0].diff()/10000000 # Convert to seconds\n",
    "    intervalsBetweenConsecutiveReadings = df[df['timeBetweenReadings'] < 300]  # Exclude breaks over 5 minutes.\n",
    "    timeBetweenReadingsDict[measurement] = intervalsBetweenConsecutiveReadings['timeBetweenReadings'].mean()\n",
    "\n",
    "# Plot horizontal barchart of timeBetweenReadingsDict\n",
    "plt.barh(list(timeBetweenReadingsDict.keys()), list(timeBetweenReadingsDict.values()))\n",
    "plt.xlabel(\"Time\")\n",
    "plt.ylabel(\"Measurement\")\n",
    "plt.title(\"Average time between readings\")\n",
    "plt.show()\n",
    "\n"
   ]
  },
  {
   "cell_type": "markdown",
   "id": "48129ec2",
   "metadata": {},
   "source": [
    "### Find the ground truth Calculated as Fuel Density * Fuel Volume Flow Rate."
   ]
  },
  {
   "cell_type": "code",
   "execution_count": 170,
   "id": "95465dc8",
   "metadata": {},
   "outputs": [
    {
     "name": "stdout",
     "output_type": "stream",
     "text": [
      "                  timestamp      flow   density        EC\n",
      "0        634019142119225390  0.000000  0.947109  0.000000\n",
      "1        634019142129597610  0.000000  0.947110  0.000000\n",
      "2        634019142139821660  0.000000  0.947114  0.000000\n",
      "3        634019142150036040  0.000000  0.947104  0.000000\n",
      "4        634019212935606850  0.283816  0.938305  0.266306\n",
      "...                     ...       ...       ...       ...\n",
      "1627319  634067079121428610  0.203576  0.930151  0.189356\n",
      "1627320  634067079131642650  0.205217  0.930103  0.190873\n",
      "1627321  634067079141866640  0.212853  0.930075  0.197969\n",
      "1627322  634067079152080710  0.224660  0.930082  0.208952\n",
      "1627323  634067079162304710  0.247825  0.930101  0.230502\n",
      "\n",
      "[1627324 rows x 4 columns]\n"
     ]
    }
   ],
   "source": [
    "# Read files\n",
    "df_flow = pd.read_csv(path_to_files+\"fuelVolumeFlowRate.csv\", names=[\"timestamp\", \"flow\"], header=None)\n",
    "df_dens = pd.read_csv(path_to_files+\"fuelDensity.csv\", names=[\"timestamp\", \"density\"], header=None)\n",
    "\n",
    "# Create a DataFrame that holds the ground truth EC.\n",
    "merged_df = pd.merge(df_flow, df_dens, on='timestamp', how='left')  # Use 'inner', 'left', 'right', or 'outer' as needed\n",
    "merged_df['EC'] = merged_df['density'] * merged_df['flow']\n",
    "print(merged_df)\n",
    "\n",
    "df_ground_truth = pd.DataFrame(columns = [\"timestamp\", \"EC_per_min\"])\n",
    "df_ground_truth[\"timestamp\"] = merged_df['timestamp']\n",
    "df_ground_truth[\"EC_per_min\"] = merged_df['EC']"
   ]
  },
  {
   "cell_type": "markdown",
   "id": "53b561c2",
   "metadata": {},
   "source": [
    "### Group every sixty records together to aggregate the EC by sum."
   ]
  },
  {
   "cell_type": "code",
   "execution_count": 129,
   "id": "d0b4e43e",
   "metadata": {},
   "outputs": [
    {
     "name": "stdout",
     "output_type": "stream",
     "text": [
      "       group           timestamp  EC_per_min\n",
      "0          2  634019214121310300   23.008404\n",
      "1          3  634019214734660150   27.407182\n",
      "2          4  634019215347899830   26.825877\n",
      "3          5  634019215961259460   27.418219\n",
      "4          6  634019216574509220   27.639133\n",
      "...      ...                 ...         ...\n",
      "26760  27116  634067075308803290   13.862783\n",
      "26761  27117  634067075922185410   14.843139\n",
      "26762  27118  634067076535407430   26.433056\n",
      "26763  27119  634067077148699770   18.805932\n",
      "26764  27121  634067078518410470   13.177006\n",
      "\n",
      "[26765 rows x 3 columns]\n"
     ]
    }
   ],
   "source": [
    "# Allocate a unique group for every 60 records of EC.\n",
    "df_ground_truth['group'] = df_ground_truth.index // 60  \n",
    "\n",
    "# Filter out groups that have less than 60 records.\n",
    "valid_groups = df_ground_truth['group'].value_counts()\n",
    "full_groups = valid_groups[valid_groups == 60].index\n",
    "df_filtered = df_ground_truth[df_ground_truth['group'].isin(full_groups)]\n",
    "\n",
    "df_aggregated = df_filtered.groupby('group', as_index=False).agg({\n",
    "    'timestamp': 'first',  # Keep the first timestamp of every 60-row group\n",
    "    'EC_per_min': 'sum'     # Sum values in energy consumption\n",
    "})\n",
    "\n",
    "# Remove minutes that last more than 65 seconds, meaning span more than one journey\n",
    "df_aggregated = df_aggregated[df_aggregated['timestamp'].diff().abs().le(650000000)]\n",
    "\n",
    "df_dataset = df_aggregated.reset_index(drop=True)\n",
    "print(df_dataset)"
   ]
  },
  {
   "cell_type": "markdown",
   "id": "60434da5",
   "metadata": {},
   "source": [
    "### Read all the files and add the measurements for each minute group by averaging all the readings that were taking during that minute."
   ]
  },
  {
   "cell_type": "code",
   "execution_count": 32,
   "id": "404a1041",
   "metadata": {},
   "outputs": [
    {
     "name": "stderr",
     "output_type": "stream",
     "text": [
      "Processing files:   0%|                                                                         | 0/20 [00:00<?, ?it/s]"
     ]
    },
    {
     "name": "stdout",
     "output_type": "stream",
     "text": [
      "fuelDensity\n"
     ]
    },
    {
     "name": "stderr",
     "output_type": "stream",
     "text": [
      "Processing files:   5%|███                                                           | 1/20 [03:30<1:06:41, 210.61s/it]"
     ]
    },
    {
     "name": "stdout",
     "output_type": "stream",
     "text": [
      "fuelTemp\n"
     ]
    },
    {
     "name": "stderr",
     "output_type": "stream",
     "text": [
      "Processing files:  10%|██████▏                                                       | 2/20 [07:21<1:06:44, 222.46s/it]"
     ]
    },
    {
     "name": "stdout",
     "output_type": "stream",
     "text": [
      "fuelVolumeFlowRate\n"
     ]
    },
    {
     "name": "stderr",
     "output_type": "stream",
     "text": [
      "Processing files:  15%|█████████▎                                                    | 3/20 [11:10<1:03:52, 225.43s/it]"
     ]
    },
    {
     "name": "stdout",
     "output_type": "stream",
     "text": [
      "inclinometer-raw\n"
     ]
    },
    {
     "name": "stderr",
     "output_type": "stream",
     "text": [
      "Processing files:  20%|████████████▍                                                 | 4/20 [18:01<1:19:42, 298.93s/it]"
     ]
    },
    {
     "name": "stdout",
     "output_type": "stream",
     "text": [
      "level1median\n"
     ]
    },
    {
     "name": "stderr",
     "output_type": "stream",
     "text": [
      "Processing files:  30%|███████████████████▏                                            | 6/20 [25:18<59:47, 256.25s/it]"
     ]
    },
    {
     "name": "stdout",
     "output_type": "stream",
     "text": [
      "level2median\n"
     ]
    },
    {
     "name": "stderr",
     "output_type": "stream",
     "text": [
      "Processing files:  35%|█████████████████████▋                                        | 7/20 [32:02<1:04:19, 296.85s/it]"
     ]
    },
    {
     "name": "stdout",
     "output_type": "stream",
     "text": [
      "longitudinalWaterSpeed\n"
     ]
    },
    {
     "name": "stderr",
     "output_type": "stream",
     "text": [
      "Processing files:  45%|████████████████████████████▊                                   | 9/20 [33:21<33:38, 183.53s/it]"
     ]
    },
    {
     "name": "stdout",
     "output_type": "stream",
     "text": [
      "portPitch\n"
     ]
    },
    {
     "name": "stderr",
     "output_type": "stream",
     "text": [
      "Processing files:  50%|███████████████████████████████▌                               | 10/20 [36:39<31:11, 187.15s/it]"
     ]
    },
    {
     "name": "stdout",
     "output_type": "stream",
     "text": [
      "portRudder\n"
     ]
    },
    {
     "name": "stderr",
     "output_type": "stream",
     "text": [
      "Processing files:  55%|██████████████████████████████████▋                            | 11/20 [39:54<28:21, 189.08s/it]"
     ]
    },
    {
     "name": "stdout",
     "output_type": "stream",
     "text": [
      "speedKmh\n"
     ]
    },
    {
     "name": "stderr",
     "output_type": "stream",
     "text": [
      "Processing files:  60%|█████████████████████████████████████▊                         | 12/20 [43:09<25:25, 190.67s/it]"
     ]
    },
    {
     "name": "stdout",
     "output_type": "stream",
     "text": [
      "speedKnots\n"
     ]
    },
    {
     "name": "stderr",
     "output_type": "stream",
     "text": [
      "Processing files:  65%|████████████████████████████████████████▉                      | 13/20 [46:29<22:32, 193.23s/it]"
     ]
    },
    {
     "name": "stdout",
     "output_type": "stream",
     "text": [
      "starboardPitch\n"
     ]
    },
    {
     "name": "stderr",
     "output_type": "stream",
     "text": [
      "Processing files:  70%|████████████████████████████████████████████                   | 14/20 [49:45<19:24, 194.07s/it]"
     ]
    },
    {
     "name": "stdout",
     "output_type": "stream",
     "text": [
      "starboardRudder\n"
     ]
    },
    {
     "name": "stderr",
     "output_type": "stream",
     "text": [
      "Processing files:  75%|███████████████████████████████████████████████▎               | 15/20 [53:02<16:14, 194.86s/it]"
     ]
    },
    {
     "name": "stdout",
     "output_type": "stream",
     "text": [
      "trackDegreeMagnetic\n"
     ]
    },
    {
     "name": "stderr",
     "output_type": "stream",
     "text": [
      "Processing files:  80%|██████████████████████████████████████████████████▍            | 16/20 [56:31<13:16, 199.04s/it]"
     ]
    },
    {
     "name": "stdout",
     "output_type": "stream",
     "text": [
      "trackDegreeTrue\n"
     ]
    },
    {
     "name": "stderr",
     "output_type": "stream",
     "text": [
      "Processing files:  85%|█████████████████████████████████████████████████████▌         | 17/20 [59:55<10:00, 200.31s/it]"
     ]
    },
    {
     "name": "stdout",
     "output_type": "stream",
     "text": [
      "trueHeading\n"
     ]
    },
    {
     "name": "stderr",
     "output_type": "stream",
     "text": [
      "Processing files:  90%|██████████████████████████████████████████████████████▉      | 18/20 [1:02:43<06:21, 190.83s/it]"
     ]
    },
    {
     "name": "stdout",
     "output_type": "stream",
     "text": [
      "windAngle\n"
     ]
    },
    {
     "name": "stderr",
     "output_type": "stream",
     "text": [
      "Processing files:  95%|█████████████████████████████████████████████████████████▉   | 19/20 [1:04:47<02:51, 171.07s/it]"
     ]
    },
    {
     "name": "stdout",
     "output_type": "stream",
     "text": [
      "windSpeed\n"
     ]
    },
    {
     "name": "stderr",
     "output_type": "stream",
     "text": [
      "Processing files: 100%|█████████████████████████████████████████████████████████████| 20/20 [1:06:49<00:00, 200.46s/it]"
     ]
    },
    {
     "name": "stdout",
     "output_type": "stream",
     "text": [
      "       group           timestamp  EC_per_min  fuelDensity   fuelTemp  \\\n",
      "0          2  634019214121310300   23.008404     0.933202  91.815760   \n",
      "1          3  634019214734660150   27.407182     0.935406  89.315216   \n",
      "2          4  634019215347899830   26.825877     0.932344  90.899144   \n",
      "3          5  634019215961259460   27.418219     0.932205  92.336181   \n",
      "4          6  634019216574509220   27.639133     0.931509  92.994141   \n",
      "...      ...                 ...         ...          ...        ...   \n",
      "26760  27116  634067075308803290   13.862783     0.929655  97.106499   \n",
      "26761  27117  634067075922185410   14.843139     0.929720  96.997450   \n",
      "26762  27118  634067076535407430   26.433056     0.929699  96.975332   \n",
      "26763  27119  634067077148699770   18.805932     0.929467  97.233662   \n",
      "26764  27121  634067078518410470   13.177006          NaN        NaN   \n",
      "\n",
      "       fuelVolumeFlowRate  inclinometer-raw  level1median  level2median  \\\n",
      "0                0.410811        357.496429     17.554475     14.104944   \n",
      "1                0.488322        357.371905     17.501509     13.802089   \n",
      "2                0.479543        357.235276     16.897420     13.989023   \n",
      "3                0.490202        357.249444     17.087314     14.193081   \n",
      "4                0.494522        357.259606     17.202002     14.251226   \n",
      "...                   ...               ...           ...           ...   \n",
      "26760            0.248534        357.251496     16.857337     14.474383   \n",
      "26761            0.266067        357.257302     16.831238     14.393144   \n",
      "26762            0.473827        357.257460     16.832353     14.163684   \n",
      "26763            0.309265        357.297677     16.795581     14.213254   \n",
      "26764                 NaN               NaN           NaN           NaN   \n",
      "\n",
      "       longitudinalWaterSpeed  ...  portRudder   speedKmh  speedKnots  \\\n",
      "0                   11.115789  ...    1.221869  21.431746   11.577778   \n",
      "1                   12.930000  ...    0.563919  24.643750   13.304688   \n",
      "2                   15.310526  ...   -0.243295  29.043548   15.679032   \n",
      "3                   16.550000  ...   -0.107541  31.706349   17.122222   \n",
      "4                   17.036842  ...   -0.203984  33.431250   18.046875   \n",
      "...                       ...  ...         ...        ...         ...   \n",
      "26760                8.265000  ...    2.210344  14.817187    8.001563   \n",
      "26761                5.894737  ...   -4.880295  10.179032    5.498387   \n",
      "26762                2.875000  ...   -8.145435   4.819355    2.601613   \n",
      "26763               -2.294737  ...   -5.273854   4.297638    2.319685   \n",
      "26764                     NaN  ...         NaN        NaN         NaN   \n",
      "\n",
      "       starboardPitch  starboardRudder  trackDegreeMagnetic  trackDegreeTrue  \\\n",
      "0            6.318967         1.201672           202.514286       195.314286   \n",
      "1            7.166774         0.522790           154.423438       147.223437   \n",
      "2            7.550049        -0.266361           132.804839       125.604839   \n",
      "3            7.828787        -0.114377           133.715873       126.515873   \n",
      "4            7.927323        -0.231806           135.096875       127.896875   \n",
      "...               ...              ...                  ...              ...   \n",
      "26760        3.098311         2.175361           281.787500       274.787500   \n",
      "26761       -0.542787         3.644459           249.456452       242.456452   \n",
      "26762       -6.169226        -0.043968           271.632258       264.632258   \n",
      "26763       -3.287236         4.723260           171.219841       164.219841   \n",
      "26764             NaN              NaN                  NaN              NaN   \n",
      "\n",
      "       trueHeading   windAngle  windSpeed  \n",
      "0       190.453725  239.033333  12.680000  \n",
      "1       152.550980  292.774194  20.977419  \n",
      "2       136.880000  310.064516  24.538710  \n",
      "3       138.887255  309.100000  24.160000  \n",
      "4       137.188627  310.419355  24.206452  \n",
      "...            ...         ...        ...  \n",
      "26760   271.693922   13.354839   7.180645  \n",
      "26761   236.722157   37.806452   3.970968  \n",
      "26762   268.874902   28.266667   3.023333  \n",
      "26763   320.804327  274.838710   0.903226  \n",
      "26764          NaN         NaN        NaN  \n",
      "\n",
      "[26765 rows x 21 columns]\n"
     ]
    },
    {
     "name": "stderr",
     "output_type": "stream",
     "text": [
      "\n"
     ]
    }
   ],
   "source": [
    "import numpy as np\n",
    "from tqdm import tqdm  \n",
    "\n",
    "for file in tqdm(csv_files, desc=\"Processing files\"):\n",
    "    filepath = f'{path_to_files}{file}'\n",
    "    col_name = file.split('.')[0]     # extract measurement name.\n",
    "    print(col_name)\n",
    "    \n",
    "    if col_name in ['latitude', 'longitude']: # Skip as they will not be relevant for the EC.\n",
    "        continue\n",
    "        \n",
    "    df_temp = pd.read_csv(filepath, names=[\"timestamp\", col_name], header=None) # create a temporary df to hold the data being processed.\n",
    "    df_dataset[col_name] = np.nan\n",
    "    \n",
    "    # Loop through each timestamp interval in df_dataset\n",
    "    for i in range(len(df_dataset) - 1):\n",
    "        start = df_dataset.iloc[i]['timestamp']\n",
    "        end = df_dataset.iloc[i + 1]['timestamp']\n",
    "\n",
    "        # Filter the new measurements to get rows within the time interval\n",
    "        df_temp_filtered = df_temp[(df_temp['timestamp'] >= start) & (df_temp['timestamp'] < end)]\n",
    "\n",
    "        # Aggregate by average \n",
    "        if not df_temp_filtered.empty:\n",
    "            avg_value = df_temp_filtered[col_name].mean() \n",
    "        else:\n",
    "            avg_value = None\n",
    "\n",
    "        # Add result to aggregated_results\n",
    "        df_dataset.at[i, col_name] = avg_value  \n",
    "\n",
    "print(df_dataset)"
   ]
  },
  {
   "cell_type": "code",
   "execution_count": 33,
   "id": "e1bff980",
   "metadata": {},
   "outputs": [],
   "source": [
    "df_dataset.to_csv(\"aggregated_data.csv\", index=False)  # Save the aggregated data in a file. (Can be used by the reviewer to save time)"
   ]
  },
  {
   "cell_type": "code",
   "execution_count": 132,
   "id": "0df528a1",
   "metadata": {},
   "outputs": [
    {
     "name": "stdout",
     "output_type": "stream",
     "text": [
      "       group           timestamp  EC_per_min  fuelDensity   fuelTemp  \\\n",
      "0          2  634019214121310300   23.008404     0.933202  91.815760   \n",
      "1          3  634019214734660150   27.407182     0.935406  89.315216   \n",
      "2          4  634019215347899830   26.825877     0.932344  90.899145   \n",
      "3          5  634019215961259460   27.418219     0.932205  92.336181   \n",
      "4          6  634019216574509220   27.639133     0.931509  92.994141   \n",
      "...      ...                 ...         ...          ...        ...   \n",
      "26760  27116  634067075308803290   13.862783     0.929655  97.106499   \n",
      "26761  27117  634067075922185410   14.843139     0.929720  96.997450   \n",
      "26762  27118  634067076535407430   26.433056     0.929699  96.975332   \n",
      "26763  27119  634067077148699770   18.805932     0.929467  97.233662   \n",
      "26764  27121  634067078518410470   13.177006          NaN        NaN   \n",
      "\n",
      "       fuelVolumeFlowRate  inclinometer-raw  level1median  level2median  \\\n",
      "0                0.410811        357.496429     17.554475     14.104944   \n",
      "1                0.488322        357.371905     17.501509     13.802089   \n",
      "2                0.479543        357.235276     16.897420     13.989023   \n",
      "3                0.490202        357.249444     17.087314     14.193081   \n",
      "4                0.494522        357.259606     17.202002     14.251226   \n",
      "...                   ...               ...           ...           ...   \n",
      "26760            0.248534        357.251496     16.857337     14.474383   \n",
      "26761            0.266067        357.257302     16.831238     14.393144   \n",
      "26762            0.473827        357.257460     16.832353     14.163684   \n",
      "26763            0.309265        357.297677     16.795581     14.213254   \n",
      "26764                 NaN               NaN           NaN           NaN   \n",
      "\n",
      "       longitudinalWaterSpeed  ...  portRudder   speedKmh  speedKnots  \\\n",
      "0                   11.115789  ...    1.221869  21.431746   11.577778   \n",
      "1                   12.930000  ...    0.563919  24.643750   13.304688   \n",
      "2                   15.310526  ...   -0.243295  29.043548   15.679032   \n",
      "3                   16.550000  ...   -0.107541  31.706349   17.122222   \n",
      "4                   17.036842  ...   -0.203984  33.431250   18.046875   \n",
      "...                       ...  ...         ...        ...         ...   \n",
      "26760                8.265000  ...    2.210344  14.817187    8.001563   \n",
      "26761                5.894737  ...   -4.880295  10.179032    5.498387   \n",
      "26762                2.875000  ...   -8.145435   4.819355    2.601613   \n",
      "26763               -2.294737  ...   -5.273854   4.297638    2.319685   \n",
      "26764                     NaN  ...         NaN        NaN         NaN   \n",
      "\n",
      "       starboardPitch  starboardRudder  trackDegreeMagnetic  trackDegreeTrue  \\\n",
      "0            6.318967         1.201672           202.514286       195.314286   \n",
      "1            7.166774         0.522790           154.423438       147.223437   \n",
      "2            7.550049        -0.266361           132.804839       125.604839   \n",
      "3            7.828787        -0.114377           133.715873       126.515873   \n",
      "4            7.927323        -0.231806           135.096875       127.896875   \n",
      "...               ...              ...                  ...              ...   \n",
      "26760        3.098311         2.175361           281.787500       274.787500   \n",
      "26761       -0.542787         3.644459           249.456452       242.456452   \n",
      "26762       -6.169226        -0.043968           271.632258       264.632258   \n",
      "26763       -3.287236         4.723260           171.219841       164.219841   \n",
      "26764             NaN              NaN                  NaN              NaN   \n",
      "\n",
      "       trueHeading   windAngle  windSpeed  \n",
      "0       190.453725  239.033333  12.680000  \n",
      "1       152.550980  292.774194  20.977419  \n",
      "2       136.880000  310.064516  24.538710  \n",
      "3       138.887255  309.100000  24.160000  \n",
      "4       137.188627  310.419355  24.206452  \n",
      "...            ...         ...        ...  \n",
      "26760   271.693922   13.354839   7.180645  \n",
      "26761   236.722157   37.806452   3.970968  \n",
      "26762   268.874902   28.266667   3.023333  \n",
      "26763   320.804327  274.838710   0.903226  \n",
      "26764          NaN         NaN        NaN  \n",
      "\n",
      "[26765 rows x 21 columns]\n"
     ]
    }
   ],
   "source": [
    "df_dataset = pd.read_csv('aggregated_data.csv')\n",
    "print(df_dataset)"
   ]
  },
  {
   "cell_type": "markdown",
   "id": "45fdc62d",
   "metadata": {},
   "source": [
    "### Drop the fuel density and flow rate and create a feature to represent the wind effect on EC."
   ]
  },
  {
   "cell_type": "code",
   "execution_count": 134,
   "id": "05ecc531",
   "metadata": {},
   "outputs": [],
   "source": [
    "df_dataset = df_dataset.drop(columns = ['fuelVolumeFlowRate', 'fuelDensity'])"
   ]
  },
  {
   "cell_type": "code",
   "execution_count": 135,
   "id": "a51bfd3c",
   "metadata": {},
   "outputs": [],
   "source": [
    "df_dataset['wind_effect'] = np.cos(np.radians(df_dataset['windAngle'] - df_dataset['trueHeading'])) * df_dataset['windSpeed']"
   ]
  },
  {
   "cell_type": "code",
   "execution_count": 136,
   "id": "56c43d38",
   "metadata": {},
   "outputs": [
    {
     "name": "stdout",
     "output_type": "stream",
     "text": [
      "67\n"
     ]
    },
    {
     "data": {
      "text/html": [
       "<div>\n",
       "<style scoped>\n",
       "    .dataframe tbody tr th:only-of-type {\n",
       "        vertical-align: middle;\n",
       "    }\n",
       "\n",
       "    .dataframe tbody tr th {\n",
       "        vertical-align: top;\n",
       "    }\n",
       "\n",
       "    .dataframe thead th {\n",
       "        text-align: right;\n",
       "    }\n",
       "</style>\n",
       "<table border=\"1\" class=\"dataframe\">\n",
       "  <thead>\n",
       "    <tr style=\"text-align: right;\">\n",
       "      <th></th>\n",
       "      <th>group</th>\n",
       "      <th>timestamp</th>\n",
       "      <th>EC_per_min</th>\n",
       "      <th>fuelTemp</th>\n",
       "      <th>inclinometer-raw</th>\n",
       "      <th>level1median</th>\n",
       "      <th>level2median</th>\n",
       "      <th>longitudinalWaterSpeed</th>\n",
       "      <th>portPitch</th>\n",
       "      <th>portRudder</th>\n",
       "      <th>speedKmh</th>\n",
       "      <th>speedKnots</th>\n",
       "      <th>starboardPitch</th>\n",
       "      <th>starboardRudder</th>\n",
       "      <th>trackDegreeMagnetic</th>\n",
       "      <th>trackDegreeTrue</th>\n",
       "      <th>trueHeading</th>\n",
       "      <th>windAngle</th>\n",
       "      <th>windSpeed</th>\n",
       "      <th>wind_effect</th>\n",
       "    </tr>\n",
       "  </thead>\n",
       "  <tbody>\n",
       "    <tr>\n",
       "      <th>2190</th>\n",
       "      <td>2216</td>\n",
       "      <td>634023390509796120</td>\n",
       "      <td>37.539194</td>\n",
       "      <td>95.404149</td>\n",
       "      <td>357.343150</td>\n",
       "      <td>NaN</td>\n",
       "      <td>15.261086</td>\n",
       "      <td>19.000000</td>\n",
       "      <td>8.419361</td>\n",
       "      <td>0.018262</td>\n",
       "      <td>37.637500</td>\n",
       "      <td>20.318750</td>\n",
       "      <td>8.331869</td>\n",
       "      <td>0.017623</td>\n",
       "      <td>345.440625</td>\n",
       "      <td>338.440625</td>\n",
       "      <td>354.070000</td>\n",
       "      <td>23.700000</td>\n",
       "      <td>27.356667</td>\n",
       "      <td>23.779405</td>\n",
       "    </tr>\n",
       "    <tr>\n",
       "      <th>2191</th>\n",
       "      <td>2217</td>\n",
       "      <td>634023391123139270</td>\n",
       "      <td>37.593683</td>\n",
       "      <td>95.325163</td>\n",
       "      <td>357.346984</td>\n",
       "      <td>NaN</td>\n",
       "      <td>14.867971</td>\n",
       "      <td>19.395000</td>\n",
       "      <td>8.507115</td>\n",
       "      <td>0.030377</td>\n",
       "      <td>38.306452</td>\n",
       "      <td>20.677419</td>\n",
       "      <td>8.427623</td>\n",
       "      <td>0.033164</td>\n",
       "      <td>345.032258</td>\n",
       "      <td>338.032258</td>\n",
       "      <td>354.453462</td>\n",
       "      <td>21.548387</td>\n",
       "      <td>24.193548</td>\n",
       "      <td>21.538383</td>\n",
       "    </tr>\n",
       "    <tr>\n",
       "      <th>2192</th>\n",
       "      <td>2218</td>\n",
       "      <td>634023391736492030</td>\n",
       "      <td>37.722234</td>\n",
       "      <td>95.550313</td>\n",
       "      <td>357.302302</td>\n",
       "      <td>NaN</td>\n",
       "      <td>15.005103</td>\n",
       "      <td>19.678947</td>\n",
       "      <td>8.560629</td>\n",
       "      <td>0.000548</td>\n",
       "      <td>38.854839</td>\n",
       "      <td>20.977419</td>\n",
       "      <td>8.435645</td>\n",
       "      <td>0.012500</td>\n",
       "      <td>344.982258</td>\n",
       "      <td>337.982258</td>\n",
       "      <td>354.474118</td>\n",
       "      <td>10.290323</td>\n",
       "      <td>23.783871</td>\n",
       "      <td>22.883436</td>\n",
       "    </tr>\n",
       "    <tr>\n",
       "      <th>2193</th>\n",
       "      <td>2219</td>\n",
       "      <td>634023392349665200</td>\n",
       "      <td>37.463468</td>\n",
       "      <td>95.356483</td>\n",
       "      <td>357.280236</td>\n",
       "      <td>NaN</td>\n",
       "      <td>15.158832</td>\n",
       "      <td>19.780000</td>\n",
       "      <td>8.586754</td>\n",
       "      <td>-0.026131</td>\n",
       "      <td>39.300000</td>\n",
       "      <td>21.223438</td>\n",
       "      <td>8.483377</td>\n",
       "      <td>-0.018984</td>\n",
       "      <td>344.403125</td>\n",
       "      <td>337.403125</td>\n",
       "      <td>354.890588</td>\n",
       "      <td>12.066667</td>\n",
       "      <td>22.346667</td>\n",
       "      <td>21.350044</td>\n",
       "    </tr>\n",
       "    <tr>\n",
       "      <th>2194</th>\n",
       "      <td>2220</td>\n",
       "      <td>634023392962908150</td>\n",
       "      <td>37.819855</td>\n",
       "      <td>95.512524</td>\n",
       "      <td>357.248651</td>\n",
       "      <td>NaN</td>\n",
       "      <td>15.172904</td>\n",
       "      <td>19.984211</td>\n",
       "      <td>8.645033</td>\n",
       "      <td>-0.033066</td>\n",
       "      <td>39.990476</td>\n",
       "      <td>21.595238</td>\n",
       "      <td>8.536541</td>\n",
       "      <td>-0.036459</td>\n",
       "      <td>343.676190</td>\n",
       "      <td>336.676190</td>\n",
       "      <td>354.858431</td>\n",
       "      <td>20.741935</td>\n",
       "      <td>24.245161</td>\n",
       "      <td>21.812972</td>\n",
       "    </tr>\n",
       "    <tr>\n",
       "      <th>...</th>\n",
       "      <td>...</td>\n",
       "      <td>...</td>\n",
       "      <td>...</td>\n",
       "      <td>...</td>\n",
       "      <td>...</td>\n",
       "      <td>...</td>\n",
       "      <td>...</td>\n",
       "      <td>...</td>\n",
       "      <td>...</td>\n",
       "      <td>...</td>\n",
       "      <td>...</td>\n",
       "      <td>...</td>\n",
       "      <td>...</td>\n",
       "      <td>...</td>\n",
       "      <td>...</td>\n",
       "      <td>...</td>\n",
       "      <td>...</td>\n",
       "      <td>...</td>\n",
       "      <td>...</td>\n",
       "      <td>...</td>\n",
       "    </tr>\n",
       "    <tr>\n",
       "      <th>2266</th>\n",
       "      <td>2292</td>\n",
       "      <td>634023437122882180</td>\n",
       "      <td>37.861021</td>\n",
       "      <td>96.746352</td>\n",
       "      <td>357.254567</td>\n",
       "      <td>16.950368</td>\n",
       "      <td>NaN</td>\n",
       "      <td>19.431579</td>\n",
       "      <td>8.624689</td>\n",
       "      <td>0.444967</td>\n",
       "      <td>39.304839</td>\n",
       "      <td>21.229032</td>\n",
       "      <td>8.377000</td>\n",
       "      <td>0.386311</td>\n",
       "      <td>337.564516</td>\n",
       "      <td>330.464516</td>\n",
       "      <td>335.969216</td>\n",
       "      <td>18.967742</td>\n",
       "      <td>28.132258</td>\n",
       "      <td>20.575125</td>\n",
       "    </tr>\n",
       "    <tr>\n",
       "      <th>2267</th>\n",
       "      <td>2293</td>\n",
       "      <td>634023437736285170</td>\n",
       "      <td>37.198923</td>\n",
       "      <td>96.532194</td>\n",
       "      <td>357.265238</td>\n",
       "      <td>16.638255</td>\n",
       "      <td>NaN</td>\n",
       "      <td>20.205000</td>\n",
       "      <td>8.693623</td>\n",
       "      <td>-0.165410</td>\n",
       "      <td>39.759375</td>\n",
       "      <td>21.479688</td>\n",
       "      <td>8.532902</td>\n",
       "      <td>-0.177984</td>\n",
       "      <td>316.039062</td>\n",
       "      <td>308.939062</td>\n",
       "      <td>317.770784</td>\n",
       "      <td>34.451613</td>\n",
       "      <td>22.422581</td>\n",
       "      <td>5.165610</td>\n",
       "    </tr>\n",
       "    <tr>\n",
       "      <th>2269</th>\n",
       "      <td>2295</td>\n",
       "      <td>634023438963040890</td>\n",
       "      <td>24.737826</td>\n",
       "      <td>96.230611</td>\n",
       "      <td>357.029055</td>\n",
       "      <td>16.523812</td>\n",
       "      <td>NaN</td>\n",
       "      <td>20.095000</td>\n",
       "      <td>7.255032</td>\n",
       "      <td>0.173323</td>\n",
       "      <td>38.316129</td>\n",
       "      <td>20.696774</td>\n",
       "      <td>7.232548</td>\n",
       "      <td>0.186516</td>\n",
       "      <td>314.022581</td>\n",
       "      <td>306.922581</td>\n",
       "      <td>315.163333</td>\n",
       "      <td>39.064516</td>\n",
       "      <td>20.496774</td>\n",
       "      <td>2.177650</td>\n",
       "    </tr>\n",
       "    <tr>\n",
       "      <th>11022</th>\n",
       "      <td>11169</td>\n",
       "      <td>634038931359603900</td>\n",
       "      <td>29.268277</td>\n",
       "      <td>97.160319</td>\n",
       "      <td>357.260000</td>\n",
       "      <td>16.514199</td>\n",
       "      <td>NaN</td>\n",
       "      <td>2.155000</td>\n",
       "      <td>4.490852</td>\n",
       "      <td>-8.180885</td>\n",
       "      <td>3.109677</td>\n",
       "      <td>1.677419</td>\n",
       "      <td>-5.736508</td>\n",
       "      <td>-8.154033</td>\n",
       "      <td>108.903226</td>\n",
       "      <td>101.903226</td>\n",
       "      <td>107.779412</td>\n",
       "      <td>283.645161</td>\n",
       "      <td>1.000000</td>\n",
       "      <td>-0.997398</td>\n",
       "    </tr>\n",
       "    <tr>\n",
       "      <th>26764</th>\n",
       "      <td>27121</td>\n",
       "      <td>634067078518410470</td>\n",
       "      <td>13.177006</td>\n",
       "      <td>NaN</td>\n",
       "      <td>NaN</td>\n",
       "      <td>NaN</td>\n",
       "      <td>NaN</td>\n",
       "      <td>NaN</td>\n",
       "      <td>NaN</td>\n",
       "      <td>NaN</td>\n",
       "      <td>NaN</td>\n",
       "      <td>NaN</td>\n",
       "      <td>NaN</td>\n",
       "      <td>NaN</td>\n",
       "      <td>NaN</td>\n",
       "      <td>NaN</td>\n",
       "      <td>NaN</td>\n",
       "      <td>NaN</td>\n",
       "      <td>NaN</td>\n",
       "      <td>NaN</td>\n",
       "    </tr>\n",
       "  </tbody>\n",
       "</table>\n",
       "<p>67 rows × 20 columns</p>\n",
       "</div>"
      ],
      "text/plain": [
       "       group           timestamp  EC_per_min   fuelTemp  inclinometer-raw  \\\n",
       "2190    2216  634023390509796120   37.539194  95.404149        357.343150   \n",
       "2191    2217  634023391123139270   37.593683  95.325163        357.346984   \n",
       "2192    2218  634023391736492030   37.722234  95.550313        357.302302   \n",
       "2193    2219  634023392349665200   37.463468  95.356483        357.280236   \n",
       "2194    2220  634023392962908150   37.819855  95.512524        357.248651   \n",
       "...      ...                 ...         ...        ...               ...   \n",
       "2266    2292  634023437122882180   37.861021  96.746352        357.254567   \n",
       "2267    2293  634023437736285170   37.198923  96.532194        357.265238   \n",
       "2269    2295  634023438963040890   24.737826  96.230611        357.029055   \n",
       "11022  11169  634038931359603900   29.268277  97.160319        357.260000   \n",
       "26764  27121  634067078518410470   13.177006        NaN               NaN   \n",
       "\n",
       "       level1median  level2median  longitudinalWaterSpeed  portPitch  \\\n",
       "2190            NaN     15.261086               19.000000   8.419361   \n",
       "2191            NaN     14.867971               19.395000   8.507115   \n",
       "2192            NaN     15.005103               19.678947   8.560629   \n",
       "2193            NaN     15.158832               19.780000   8.586754   \n",
       "2194            NaN     15.172904               19.984211   8.645033   \n",
       "...             ...           ...                     ...        ...   \n",
       "2266      16.950368           NaN               19.431579   8.624689   \n",
       "2267      16.638255           NaN               20.205000   8.693623   \n",
       "2269      16.523812           NaN               20.095000   7.255032   \n",
       "11022     16.514199           NaN                2.155000   4.490852   \n",
       "26764           NaN           NaN                     NaN        NaN   \n",
       "\n",
       "       portRudder   speedKmh  speedKnots  starboardPitch  starboardRudder  \\\n",
       "2190     0.018262  37.637500   20.318750        8.331869         0.017623   \n",
       "2191     0.030377  38.306452   20.677419        8.427623         0.033164   \n",
       "2192     0.000548  38.854839   20.977419        8.435645         0.012500   \n",
       "2193    -0.026131  39.300000   21.223438        8.483377        -0.018984   \n",
       "2194    -0.033066  39.990476   21.595238        8.536541        -0.036459   \n",
       "...           ...        ...         ...             ...              ...   \n",
       "2266     0.444967  39.304839   21.229032        8.377000         0.386311   \n",
       "2267    -0.165410  39.759375   21.479688        8.532902        -0.177984   \n",
       "2269     0.173323  38.316129   20.696774        7.232548         0.186516   \n",
       "11022   -8.180885   3.109677    1.677419       -5.736508        -8.154033   \n",
       "26764         NaN        NaN         NaN             NaN              NaN   \n",
       "\n",
       "       trackDegreeMagnetic  trackDegreeTrue  trueHeading   windAngle  \\\n",
       "2190            345.440625       338.440625   354.070000   23.700000   \n",
       "2191            345.032258       338.032258   354.453462   21.548387   \n",
       "2192            344.982258       337.982258   354.474118   10.290323   \n",
       "2193            344.403125       337.403125   354.890588   12.066667   \n",
       "2194            343.676190       336.676190   354.858431   20.741935   \n",
       "...                    ...              ...          ...         ...   \n",
       "2266            337.564516       330.464516   335.969216   18.967742   \n",
       "2267            316.039062       308.939062   317.770784   34.451613   \n",
       "2269            314.022581       306.922581   315.163333   39.064516   \n",
       "11022           108.903226       101.903226   107.779412  283.645161   \n",
       "26764                  NaN              NaN          NaN         NaN   \n",
       "\n",
       "       windSpeed  wind_effect  \n",
       "2190   27.356667    23.779405  \n",
       "2191   24.193548    21.538383  \n",
       "2192   23.783871    22.883436  \n",
       "2193   22.346667    21.350044  \n",
       "2194   24.245161    21.812972  \n",
       "...          ...          ...  \n",
       "2266   28.132258    20.575125  \n",
       "2267   22.422581     5.165610  \n",
       "2269   20.496774     2.177650  \n",
       "11022   1.000000    -0.997398  \n",
       "26764        NaN          NaN  \n",
       "\n",
       "[67 rows x 20 columns]"
      ]
     },
     "execution_count": 136,
     "metadata": {},
     "output_type": "execute_result"
    }
   ],
   "source": [
    "print(df_dataset.isna().any(axis=1).sum())  # Count rows with at least one NaN\n",
    "df_dataset[df_dataset.isna().any(axis=1)]"
   ]
  },
  {
   "cell_type": "code",
   "execution_count": 137,
   "id": "79b15315",
   "metadata": {},
   "outputs": [],
   "source": [
    "df_dataset = df_dataset.drop(df_dataset.index[-1])"
   ]
  },
  {
   "cell_type": "markdown",
   "id": "aec0a0ca",
   "metadata": {},
   "source": [
    "### Correlation Matrix and Feature Selection"
   ]
  },
  {
   "cell_type": "code",
   "execution_count": 138,
   "id": "053c9b56",
   "metadata": {
    "scrolled": false
   },
   "outputs": [
    {
     "data": {
      "image/png": "[encoded data removed]",
      "text/plain": [
       "<Figure size 720x576 with 2 Axes>"
      ]
     },
     "metadata": {
      "needs_background": "light"
     },
     "output_type": "display_data"
    }
   ],
   "source": [
    "from matplotlib import pyplot as plt\n",
    "import seaborn as sns\n",
    "\n",
    "correlation_matrix = df_dataset.corr()\n",
    "\n",
    "# Plot heatmap\n",
    "plt.figure(figsize=(10, 8))\n",
    "sns.heatmap(correlation_matrix, annot=True, cmap=\"coolwarm\", fmt=\".2f\", linewidths=0.5)\n",
    "plt.title(\"Correlation Matrix Heatmap\")\n",
    "plt.show()"
   ]
  },
  {
   "cell_type": "code",
   "execution_count": 140,
   "id": "28d53ed0",
   "metadata": {},
   "outputs": [
    {
     "name": "stdout",
     "output_type": "stream",
     "text": [
      "       longitudinalWaterSpeed  portPitch  starboardPitch\n",
      "0                   11.115789   5.148279        6.318967\n",
      "1                   12.930000   5.701339        7.166774\n",
      "2                   15.310526   6.261213        7.550049\n",
      "3                   16.550000   6.543279        7.828787\n",
      "4                   17.036842   6.659129        7.927323\n",
      "...                       ...        ...             ...\n",
      "26759               10.868421   2.835213        2.863557\n",
      "26760                8.265000   2.975607        3.098311\n",
      "26761                5.894737   1.322000       -0.542787\n",
      "26762                2.875000   3.545339       -6.169226\n",
      "26763               -2.294737  -0.469463       -3.287236\n",
      "\n",
      "[26764 rows x 3 columns]\n",
      "0        23.008404\n",
      "1        27.407182\n",
      "2        26.825877\n",
      "3        27.418219\n",
      "4        27.639133\n",
      "           ...    \n",
      "26759    11.882894\n",
      "26760    13.862783\n",
      "26761    14.843139\n",
      "26762    26.433056\n",
      "26763    18.805932\n",
      "Name: EC_per_min, Length: 26764, dtype: float64\n"
     ]
    }
   ],
   "source": [
    "X = df_dataset[['longitudinalWaterSpeed', 'portPitch', 'starboardPitch']]\n",
    "y = df_dataset['EC_per_min']\n",
    "print(X)\n",
    "print(y)"
   ]
  },
  {
   "cell_type": "markdown",
   "id": "8b431799",
   "metadata": {},
   "source": [
    "### Random Forest"
   ]
  },
  {
   "cell_type": "code",
   "execution_count": 147,
   "id": "7a7ed24c",
   "metadata": {},
   "outputs": [],
   "source": [
    "from sklearn.model_selection import train_test_split\n",
    "\n",
    "# Split into training and testing sets\n",
    "X_train, X_test, y_train, y_test = train_test_split(X, y, test_size=0.2, random_state=42)"
   ]
  },
  {
   "cell_type": "code",
   "execution_count": 148,
   "id": "f2b9afc6",
   "metadata": {},
   "outputs": [
    {
     "name": "stdout",
     "output_type": "stream",
     "text": [
      "Model Score: 0.988328442319705\n"
     ]
    }
   ],
   "source": [
    "from sklearn.ensemble import RandomForestRegressor\n",
    "\n",
    "# Initialize and train the RandomForestRegressor\n",
    "rf = RandomForestRegressor(n_estimators=100, random_state=42)\n",
    "rf.fit(X_train, y_train)\n",
    "\n",
    "# Predict on test set\n",
    "y_pred = rf.predict(X_test)\n",
    "\n",
    "# Evaluate model\n",
    "print(\"Model Score:\", rf.score(X_test, y_test))  # R^2 score"
   ]
  },
  {
   "cell_type": "code",
   "execution_count": 149,
   "id": "ebfe5104",
   "metadata": {},
   "outputs": [
    {
     "data": {
      "image/png": "[encoded data removed]",
      "text/plain": [
       "<Figure size 720x432 with 1 Axes>"
      ]
     },
     "metadata": {
      "needs_background": "light"
     },
     "output_type": "display_data"
    }
   ],
   "source": [
    "import matplotlib.pyplot as plt\n",
    "import pandas as pd\n",
    "import numpy as np\n",
    "\n",
    "# Get feature importances\n",
    "importances = rf.feature_importances_\n",
    "feature_names = X_train.columns  # Ensure your feature names match your dataset\n",
    "\n",
    "# Sort feature importances in descending order\n",
    "indices = np.argsort(importances)[::-1]\n",
    "\n",
    "# Plot feature importances\n",
    "plt.figure(figsize=(10, 6))\n",
    "plt.bar(range(len(importances)), importances[indices], align=\"center\")\n",
    "plt.xticks(range(len(importances)), [feature_names[i] for i in indices], rotation=45)\n",
    "plt.xlabel(\"Feature\")\n",
    "plt.ylabel(\"Importance\")\n",
    "plt.title(\"Feature Importances from Random Forest\")\n",
    "plt.show()\n"
   ]
  },
  {
   "cell_type": "code",
   "execution_count": 107,
   "id": "66ec6cce",
   "metadata": {},
   "outputs": [
    {
     "data": {
      "image/png": "[encoded data removed]",
      "text/plain": [
       "<Figure size 432x288 with 1 Axes>"
      ]
     },
     "metadata": {
      "needs_background": "light"
     },
     "output_type": "display_data"
    }
   ],
   "source": [
    "residuals = y_test - y_pred\n",
    "plt.scatter(y_pred, residuals, alpha=0.5)\n",
    "plt.axhline(y=0, color='r', linestyle='--')\n",
    "plt.xlabel(\"Predicted Values\")\n",
    "plt.ylabel(\"Residuals\")\n",
    "plt.title(\"Residual Plot\")\n",
    "plt.show()\n"
   ]
  },
  {
   "cell_type": "markdown",
   "id": "dfe9d27a",
   "metadata": {},
   "source": [
    "### Ridge Regression"
   ]
  },
  {
   "cell_type": "code",
   "execution_count": 150,
   "id": "7c00a137",
   "metadata": {},
   "outputs": [],
   "source": [
    "from sklearn.preprocessing import StandardScaler\n",
    "\n",
    "# Normalize the data\n",
    "scaler = StandardScaler()\n",
    "X_train_scaled = scaler.fit_transform(X_train)\n",
    "X_test_scaled = scaler.transform(X_test)\n",
    "\n"
   ]
  },
  {
   "cell_type": "code",
   "execution_count": 151,
   "id": "deebe50b",
   "metadata": {},
   "outputs": [
    {
     "name": "stdout",
     "output_type": "stream",
     "text": [
      "Best alpha: 1\n"
     ]
    }
   ],
   "source": [
    "alphas = [0.001, 0.01, 0.1, 1, 10, 100]\n",
    "grid = GridSearchCV(Ridge(), {'alpha': alphas}, cv=5)\n",
    "grid.fit(X_train_scaled, y_train)\n",
    "\n",
    "best_alpha = grid.best_params_['alpha']\n",
    "print(f'Best alpha: {best_alpha}')\n",
    "\n",
    "ridge = Ridge(alpha=best_alpha).fit(X_train_scaled, y_train)"
   ]
  },
  {
   "cell_type": "code",
   "execution_count": 161,
   "id": "0c6dfccd",
   "metadata": {},
   "outputs": [
    {
     "name": "stdout",
     "output_type": "stream",
     "text": [
      "R² Score (from model): 0.7020068883682716\n"
     ]
    }
   ],
   "source": [
    "from sklearn.linear_model import Ridge\n",
    "from sklearn.model_selection import GridSearchCV\n",
    "\n",
    "# Train Ridge Regression model\n",
    "ridge = Ridge(alpha=0.1)  \n",
    "ridge.fit(X_train_scaled, y_train)\n",
    "\n",
    "# Predictions\n",
    "y_pred = ridge.predict(X_test_scaled)\n",
    "\n",
    "# Alternatively, using the model's built-in function:\n",
    "print(f'R² Score (from model): {ridge.score(X_test_scaled, y_test)}')"
   ]
  },
  {
   "cell_type": "code",
   "execution_count": 154,
   "id": "55681181",
   "metadata": {},
   "outputs": [
    {
     "data": {
      "image/png": "[encoded data removed]",
      "text/plain": [
       "<Figure size 720x432 with 1 Axes>"
      ]
     },
     "metadata": {
      "needs_background": "light"
     },
     "output_type": "display_data"
    }
   ],
   "source": [
    "# Get feature names if using a DataFrame, else use generic indices\n",
    "feature_names = X_train.columns if hasattr(X_train, 'columns') else [f'Feature {i}' for i in range(X_train.shape[1])]\n",
    "\n",
    "# Plot Ridge coefficients\n",
    "plt.figure(figsize=(10, 6))\n",
    "plt.barh(feature_names, ridge.coef_)\n",
    "plt.xlabel('Coefficient Value')\n",
    "plt.ylabel('Feature')\n",
    "plt.title('Feature Importance in Ridge Regression')\n",
    "plt.grid(True)\n",
    "plt.show()"
   ]
  },
  {
   "cell_type": "code",
   "execution_count": 162,
   "id": "7f8c48bc",
   "metadata": {},
   "outputs": [
    {
     "data": {
      "image/png": "[encoded data removed]",
      "text/plain": [
       "<Figure size 432x288 with 1 Axes>"
      ]
     },
     "metadata": {
      "needs_background": "light"
     },
     "output_type": "display_data"
    }
   ],
   "source": [
    "residuals = y_test - y_pred\n",
    "plt.scatter(y_pred, residuals, alpha=0.5)\n",
    "plt.axhline(y=0, color='r', linestyle='--')\n",
    "plt.xlabel(\"Predicted Values\")\n",
    "plt.ylabel(\"Residuals\")\n",
    "plt.title(\"Residual Plot\")\n",
    "plt.show()\n"
   ]
  },
  {
   "cell_type": "markdown",
   "id": "1e9e2248",
   "metadata": {},
   "source": [
    "### SVM"
   ]
  },
  {
   "cell_type": "code",
   "execution_count": 116,
   "id": "ddba55db",
   "metadata": {},
   "outputs": [
    {
     "name": "stdout",
     "output_type": "stream",
     "text": [
      "Best Params: {'C': 100, 'epsilon': 0.1, 'kernel': 'rbf'}\n"
     ]
    }
   ],
   "source": [
    "from sklearn.model_selection import GridSearchCV\n",
    "\n",
    "param_grid = {\n",
    "    'C': [0.1, 1, 10, 100],\n",
    "    'epsilon': [0.01, 0.1, 1],\n",
    "    'kernel': ['linear', 'rbf']\n",
    "}\n",
    "\n",
    "grid = GridSearchCV(SVR(), param_grid, cv=5, scoring='r2')\n",
    "grid.fit(X_train_scaled, y_train)\n",
    "\n",
    "print(f'Best Params: {grid.best_params_}')\n"
   ]
  },
  {
   "cell_type": "code",
   "execution_count": 157,
   "id": "59530a02",
   "metadata": {},
   "outputs": [
    {
     "name": "stdout",
     "output_type": "stream",
     "text": [
      "R² Score: 0.9865117646207018\n"
     ]
    }
   ],
   "source": [
    "from sklearn.svm import SVR\n",
    "from sklearn.metrics import mean_squared_error, r2_score\n",
    "\n",
    "svr = SVR(kernel='rbf', C=100, epsilon=0.1)\n",
    "svr.fit(X_train_scaled, y_train)\n",
    "\n",
    "y_pred = svr.predict(X_test_scaled)\n",
    "print(f'R² Score: {r2_score(y_test, y_pred)}')"
   ]
  },
  {
   "cell_type": "code",
   "execution_count": 159,
   "id": "7d37dc1e",
   "metadata": {},
   "outputs": [
    {
     "data": {
      "image/png": "[encoded data removed]",
      "text/plain": [
       "<Figure size 720x360 with 1 Axes>"
      ]
     },
     "metadata": {
      "needs_background": "light"
     },
     "output_type": "display_data"
    }
   ],
   "source": [
    "from sklearn.inspection import permutation_importance\n",
    "# Compute permutation importance\n",
    "perm_importance = permutation_importance(svr, X_test_scaled, y_test, n_repeats=10, random_state=42)\n",
    "\n",
    "# Get feature names (assuming X_train is a DataFrame)\n",
    "feature_names = X_train.columns if hasattr(X_train, \"columns\") else [f\"Feature {i}\" for i in range(len(perm_importance.importances_mean))]\n",
    "\n",
    "# Plot feature importance\n",
    "plt.figure(figsize=(10, 5))\n",
    "plt.bar(feature_names, perm_importance.importances_mean)\n",
    "plt.xticks(rotation=90)\n",
    "plt.xlabel(\"Feature\")\n",
    "plt.ylabel(\"Importance\")\n",
    "plt.title(\"Permutation Importance for SVR (RBF Kernel)\")\n",
    "plt.show()\n"
   ]
  },
  {
   "cell_type": "code",
   "execution_count": 160,
   "id": "40b0132f",
   "metadata": {},
   "outputs": [
    {
     "data": {
      "image/png": "[encoded data removed]",
      "text/plain": [
       "<Figure size 432x288 with 1 Axes>"
      ]
     },
     "metadata": {
      "needs_background": "light"
     },
     "output_type": "display_data"
    }
   ],
   "source": [
    "residuals = y_test - y_pred\n",
    "plt.scatter(y_pred, residuals, alpha=0.5)\n",
    "plt.axhline(y=0, color='r', linestyle='--')\n",
    "plt.xlabel(\"Predicted Values\")\n",
    "plt.ylabel(\"Residuals\")\n",
    "plt.title(\"Residual Plot\")\n",
    "plt.show()"
   ]
  }
 ],
 "metadata": {
  "kernelspec": {
   "display_name": "Python 3 (ipykernel)",
   "language": "python",
   "name": "python3"
  },
  "language_info": {
   "codemirror_mode": {
    "name": "ipython",
    "version": 3
   },
   "file_extension": ".py",
   "mimetype": "text/x-python",
   "name": "python",
   "nbconvert_exporter": "python",
   "pygments_lexer": "ipython3",
   "version": "3.9.7"
  }
 },
 "nbformat": 4,
 "nbformat_minor": 5
}
